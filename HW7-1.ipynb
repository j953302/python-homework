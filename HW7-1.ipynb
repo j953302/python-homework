{
 "cells": [
  {
   "cell_type": "code",
   "execution_count": 1,
   "metadata": {},
   "outputs": [
    {
     "name": "stderr",
     "output_type": "stream",
     "text": [
      "Using TensorFlow backend.\n"
     ]
    }
   ],
   "source": [
    "%matplotlib inline\n",
    "\n",
    "import numpy as np\n",
    "import matplotlib.pyplot as plt\n",
    "from keras.datasets import mnist\n",
    "from keras.utils import np_utils"
   ]
  },
  {
   "cell_type": "code",
   "execution_count": 2,
   "metadata": {},
   "outputs": [],
   "source": [
    "(x_train,y_train),(x_test,y_test) = mnist.load_data()"
   ]
  },
  {
   "cell_type": "code",
   "execution_count": 3,
   "metadata": {},
   "outputs": [],
   "source": [
    "x_train = x_train.reshape(60000,784)\n",
    "x_test = x_test.reshape(10000,784)"
   ]
  },
  {
   "cell_type": "code",
   "execution_count": 4,
   "metadata": {},
   "outputs": [],
   "source": [
    "y_train = np_utils.to_categorical(y_train,10)\n",
    "y_test = np_utils.to_categorical(y_test,10)"
   ]
  },
  {
   "cell_type": "code",
   "execution_count": 5,
   "metadata": {},
   "outputs": [
    {
     "name": "stdout",
     "output_type": "stream",
     "text": [
      "(60000, 784)\n",
      "(60000, 10)\n",
      "(10000, 784)\n",
      "(10000, 10)\n"
     ]
    }
   ],
   "source": [
    "print(x_train.shape)\n",
    "print(y_train.shape)\n",
    "print(x_test.shape)\n",
    "print(y_test.shape)"
   ]
  },
  {
   "cell_type": "code",
   "execution_count": 6,
   "metadata": {},
   "outputs": [
    {
     "data": {
      "text/plain": [
       "array([0., 0., 0., 1., 0., 0., 0., 0., 0., 0.], dtype=float32)"
      ]
     },
     "execution_count": 6,
     "metadata": {},
     "output_type": "execute_result"
    }
   ],
   "source": [
    "y_train[10]"
   ]
  },
  {
   "cell_type": "code",
   "execution_count": 7,
   "metadata": {},
   "outputs": [],
   "source": [
    "from keras.models import Sequential\n",
    "from keras.layers import Dense,Activation\n",
    "from keras.optimizers import SGD"
   ]
  },
  {
   "cell_type": "markdown",
   "metadata": {},
   "source": [
    "# 嘗試第一個模型"
   ]
  },
  {
   "cell_type": "markdown",
   "metadata": {},
   "source": [
    "使用 softplus 、 softmax 、mse"
   ]
  },
  {
   "cell_type": "markdown",
   "metadata": {},
   "source": [
    "使用兩層hidden layer，第一層先用4個神經元，第二層使用2個神經元"
   ]
  },
  {
   "cell_type": "code",
   "execution_count": 8,
   "metadata": {},
   "outputs": [
    {
     "name": "stdout",
     "output_type": "stream",
     "text": [
      "_________________________________________________________________\n",
      "Layer (type)                 Output Shape              Param #   \n",
      "=================================================================\n",
      "dense_1 (Dense)              (None, 4)                 3140      \n",
      "_________________________________________________________________\n",
      "activation_1 (Activation)    (None, 4)                 0         \n",
      "_________________________________________________________________\n",
      "dense_2 (Dense)              (None, 2)                 10        \n",
      "_________________________________________________________________\n",
      "activation_2 (Activation)    (None, 2)                 0         \n",
      "_________________________________________________________________\n",
      "dense_3 (Dense)              (None, 10)                30        \n",
      "_________________________________________________________________\n",
      "activation_3 (Activation)    (None, 10)                0         \n",
      "=================================================================\n",
      "Total params: 3,180\n",
      "Trainable params: 3,180\n",
      "Non-trainable params: 0\n",
      "_________________________________________________________________\n"
     ]
    }
   ],
   "source": [
    "model_1 = Sequential()\n",
    "model_1.add(Dense(4, input_dim = 28*28))\n",
    "model_1.add(Activation('softplus'))\n",
    "model_1.add(Dense(2))\n",
    "model_1.add(Activation('softplus'))\n",
    "model_1.add(Dense(10))\n",
    "model_1.add(Activation('softmax'))\n",
    "model_1.summary()"
   ]
  },
  {
   "cell_type": "code",
   "execution_count": 9,
   "metadata": {},
   "outputs": [],
   "source": [
    "model_1.compile(loss = \"mse\",optimizer=SGD(lr = 0.05),metrics=[\"accuracy\"]) #告知loss function "
   ]
  },
  {
   "cell_type": "code",
   "execution_count": 10,
   "metadata": {},
   "outputs": [
    {
     "name": "stdout",
     "output_type": "stream",
     "text": [
      "Epoch 1/20\n",
      "60000/60000 [==============================] - 2s 26us/step - loss: 0.0925 - acc: 0.1115\n",
      "Epoch 2/20\n",
      "60000/60000 [==============================] - 1s 20us/step - loss: 0.0900 - acc: 0.1124\n",
      "Epoch 3/20\n",
      "60000/60000 [==============================] - 1s 20us/step - loss: 0.0900 - acc: 0.1124\n",
      "Epoch 4/20\n",
      "60000/60000 [==============================] - 1s 21us/step - loss: 0.0900 - acc: 0.1124\n",
      "Epoch 5/20\n",
      "60000/60000 [==============================] - 1s 20us/step - loss: 0.0900 - acc: 0.1124\n",
      "Epoch 6/20\n",
      "60000/60000 [==============================] - 1s 20us/step - loss: 0.0900 - acc: 0.1124\n",
      "Epoch 7/20\n",
      "60000/60000 [==============================] - 1s 20us/step - loss: 0.0900 - acc: 0.1124\n",
      "Epoch 8/20\n",
      "60000/60000 [==============================] - 1s 20us/step - loss: 0.0900 - acc: 0.1124\n",
      "Epoch 9/20\n",
      "60000/60000 [==============================] - 1s 19us/step - loss: 0.0900 - acc: 0.1124\n",
      "Epoch 10/20\n",
      "60000/60000 [==============================] - 1s 20us/step - loss: 0.0900 - acc: 0.1124\n",
      "Epoch 11/20\n",
      "60000/60000 [==============================] - 1s 19us/step - loss: 0.0900 - acc: 0.1124\n",
      "Epoch 12/20\n",
      "60000/60000 [==============================] - 1s 20us/step - loss: 0.0900 - acc: 0.1124\n",
      "Epoch 13/20\n",
      "60000/60000 [==============================] - 1s 20us/step - loss: 0.0900 - acc: 0.1124\n",
      "Epoch 14/20\n",
      "60000/60000 [==============================] - 1s 20us/step - loss: 0.0900 - acc: 0.1124\n",
      "Epoch 15/20\n",
      "60000/60000 [==============================] - 1s 20us/step - loss: 0.0900 - acc: 0.1124\n",
      "Epoch 16/20\n",
      "60000/60000 [==============================] - 1s 19us/step - loss: 0.0900 - acc: 0.1124\n",
      "Epoch 17/20\n",
      "60000/60000 [==============================] - 1s 19us/step - loss: 0.0900 - acc: 0.1124\n",
      "Epoch 18/20\n",
      "60000/60000 [==============================] - 1s 19us/step - loss: 0.0900 - acc: 0.1124\n",
      "Epoch 19/20\n",
      "60000/60000 [==============================] - 1s 20us/step - loss: 0.0900 - acc: 0.1124\n",
      "Epoch 20/20\n",
      "60000/60000 [==============================] - 1s 22us/step - loss: 0.0900 - acc: 0.1124\n"
     ]
    }
   ],
   "source": [
    "model_1 = model_1.fit(x_train,y_train,batch_size=100,epochs=20)"
   ]
  },
  {
   "cell_type": "markdown",
   "metadata": {},
   "source": [
    "很可惜，準確率只有11%，比老師測試的還低"
   ]
  },
  {
   "cell_type": "markdown",
   "metadata": {},
   "source": [
    "# 嘗試第二個模型"
   ]
  },
  {
   "cell_type": "markdown",
   "metadata": {},
   "source": [
    "想試試看若增加神經元個數，是否會增加準確率?\n"
   ]
  },
  {
   "cell_type": "code",
   "execution_count": 11,
   "metadata": {},
   "outputs": [
    {
     "name": "stdout",
     "output_type": "stream",
     "text": [
      "_________________________________________________________________\n",
      "Layer (type)                 Output Shape              Param #   \n",
      "=================================================================\n",
      "dense_4 (Dense)              (None, 10)                7850      \n",
      "_________________________________________________________________\n",
      "activation_4 (Activation)    (None, 10)                0         \n",
      "_________________________________________________________________\n",
      "dense_5 (Dense)              (None, 10)                110       \n",
      "_________________________________________________________________\n",
      "activation_5 (Activation)    (None, 10)                0         \n",
      "_________________________________________________________________\n",
      "dense_6 (Dense)              (None, 10)                110       \n",
      "_________________________________________________________________\n",
      "activation_6 (Activation)    (None, 10)                0         \n",
      "=================================================================\n",
      "Total params: 8,070\n",
      "Trainable params: 8,070\n",
      "Non-trainable params: 0\n",
      "_________________________________________________________________\n",
      "Epoch 1/20\n",
      "60000/60000 [==============================] - 2s 27us/step - loss: 0.0921 - acc: 0.2752\n",
      "Epoch 2/20\n",
      "60000/60000 [==============================] - 1s 18us/step - loss: 0.0656 - acc: 0.4123\n",
      "Epoch 3/20\n",
      "60000/60000 [==============================] - 1s 18us/step - loss: 0.0620 - acc: 0.4351\n",
      "Epoch 4/20\n",
      "60000/60000 [==============================] - 1s 19us/step - loss: 0.0600 - acc: 0.4438\n",
      "Epoch 5/20\n",
      "60000/60000 [==============================] - 1s 19us/step - loss: 0.0584 - acc: 0.4706\n",
      "Epoch 6/20\n",
      "60000/60000 [==============================] - 1s 18us/step - loss: 0.0571 - acc: 0.4827\n",
      "Epoch 7/20\n",
      "60000/60000 [==============================] - 1s 18us/step - loss: 0.0559 - acc: 0.4958\n",
      "Epoch 8/20\n",
      "60000/60000 [==============================] - 1s 18us/step - loss: 0.0548 - acc: 0.5030\n",
      "Epoch 9/20\n",
      "60000/60000 [==============================] - 1s 18us/step - loss: 0.0539 - acc: 0.5094\n",
      "Epoch 10/20\n",
      "60000/60000 [==============================] - 1s 19us/step - loss: 0.0532 - acc: 0.5149\n",
      "Epoch 11/20\n",
      "60000/60000 [==============================] - 1s 18us/step - loss: 0.0525 - acc: 0.5202\n",
      "Epoch 12/20\n",
      "60000/60000 [==============================] - 1s 19us/step - loss: 0.0520 - acc: 0.5234\n",
      "Epoch 13/20\n",
      "60000/60000 [==============================] - 1s 18us/step - loss: 0.0515 - acc: 0.5270\n",
      "Epoch 14/20\n",
      "60000/60000 [==============================] - 1s 18us/step - loss: 0.0511 - acc: 0.5292\n",
      "Epoch 15/20\n",
      "60000/60000 [==============================] - 1s 19us/step - loss: 0.0507 - acc: 0.5322\n",
      "Epoch 16/20\n",
      "60000/60000 [==============================] - 1s 19us/step - loss: 0.0504 - acc: 0.5346\n",
      "Epoch 17/20\n",
      "60000/60000 [==============================] - 1s 18us/step - loss: 0.0500 - acc: 0.5373\n",
      "Epoch 18/20\n",
      "60000/60000 [==============================] - 1s 19us/step - loss: 0.0498 - acc: 0.5403\n",
      "Epoch 19/20\n",
      "60000/60000 [==============================] - 1s 18us/step - loss: 0.0494 - acc: 0.5447: 0s - loss: 0\n",
      "Epoch 20/20\n",
      "60000/60000 [==============================] - 1s 18us/step - loss: 0.0474 - acc: 0.5781\n"
     ]
    }
   ],
   "source": [
    "model_2 = Sequential()\n",
    "model_2.add(Dense(10, input_dim = 28*28))\n",
    "model_2.add(Activation('softplus'))\n",
    "model_2.add(Dense(10))\n",
    "model_2.add(Activation('softplus'))\n",
    "model_2.add(Dense(10))\n",
    "model_2.add(Activation('softmax'))\n",
    "model_2.summary()\n",
    "model_2.compile(loss = \"mse\",optimizer=SGD(lr = 0.05),metrics=[\"accuracy\"]) #告知loss function\n",
    "model_2 = model_2.fit(x_train,y_train,batch_size=100,epochs=20)"
   ]
  },
  {
   "cell_type": "markdown",
   "metadata": {},
   "source": [
    "這次將第一層和第二層的神經元個數提升到10個，準確率從11% --- 57%"
   ]
  },
  {
   "cell_type": "markdown",
   "metadata": {},
   "source": [
    "上升蠻多的，但想繼續嘗試是否有效率更高的方式"
   ]
  },
  {
   "cell_type": "markdown",
   "metadata": {},
   "source": [
    "# 嘗試第三個模型"
   ]
  },
  {
   "cell_type": "code",
   "execution_count": 12,
   "metadata": {},
   "outputs": [
    {
     "name": "stdout",
     "output_type": "stream",
     "text": [
      "_________________________________________________________________\n",
      "Layer (type)                 Output Shape              Param #   \n",
      "=================================================================\n",
      "dense_7 (Dense)              (None, 4)                 3140      \n",
      "_________________________________________________________________\n",
      "activation_7 (Activation)    (None, 4)                 0         \n",
      "_________________________________________________________________\n",
      "dense_8 (Dense)              (None, 2)                 10        \n",
      "_________________________________________________________________\n",
      "activation_8 (Activation)    (None, 2)                 0         \n",
      "_________________________________________________________________\n",
      "dense_9 (Dense)              (None, 10)                30        \n",
      "_________________________________________________________________\n",
      "activation_9 (Activation)    (None, 10)                0         \n",
      "=================================================================\n",
      "Total params: 3,180\n",
      "Trainable params: 3,180\n",
      "Non-trainable params: 0\n",
      "_________________________________________________________________\n",
      "Epoch 1/20\n",
      "60000/60000 [==============================] - 1s 24us/step - loss: 0.2043 - acc: 0.0974\n",
      "Epoch 2/20\n",
      "60000/60000 [==============================] - 1s 18us/step - loss: 0.1362 - acc: 0.0974\n",
      "Epoch 3/20\n",
      "60000/60000 [==============================] - 1s 18us/step - loss: 0.1057 - acc: 0.1014\n",
      "Epoch 4/20\n",
      "60000/60000 [==============================] - 1s 18us/step - loss: 0.0948 - acc: 0.1124\n",
      "Epoch 5/20\n",
      "60000/60000 [==============================] - 1s 18us/step - loss: 0.0917 - acc: 0.1124\n",
      "Epoch 6/20\n",
      "60000/60000 [==============================] - 1s 18us/step - loss: 0.0906 - acc: 0.1124\n",
      "Epoch 7/20\n",
      "60000/60000 [==============================] - 1s 18us/step - loss: 0.0902 - acc: 0.1124\n",
      "Epoch 8/20\n",
      "60000/60000 [==============================] - 1s 18us/step - loss: 0.0901 - acc: 0.1124\n",
      "Epoch 9/20\n",
      "60000/60000 [==============================] - 1s 18us/step - loss: 0.0900 - acc: 0.1124\n",
      "Epoch 10/20\n",
      "60000/60000 [==============================] - 1s 18us/step - loss: 0.0900 - acc: 0.1124\n",
      "Epoch 11/20\n",
      "60000/60000 [==============================] - 1s 18us/step - loss: 0.0900 - acc: 0.1124\n",
      "Epoch 12/20\n",
      "60000/60000 [==============================] - 1s 18us/step - loss: 0.0900 - acc: 0.1124\n",
      "Epoch 13/20\n",
      "60000/60000 [==============================] - 1s 18us/step - loss: 0.0900 - acc: 0.1124\n",
      "Epoch 14/20\n",
      "60000/60000 [==============================] - 1s 18us/step - loss: 0.0899 - acc: 0.1124\n",
      "Epoch 15/20\n",
      "60000/60000 [==============================] - 1s 18us/step - loss: 0.0899 - acc: 0.1124\n",
      "Epoch 16/20\n",
      "60000/60000 [==============================] - 1s 18us/step - loss: 0.0899 - acc: 0.1124\n",
      "Epoch 17/20\n",
      "60000/60000 [==============================] - 1s 18us/step - loss: 0.0899 - acc: 0.1124\n",
      "Epoch 18/20\n",
      "60000/60000 [==============================] - 1s 18us/step - loss: 0.0899 - acc: 0.1124\n",
      "Epoch 19/20\n",
      "60000/60000 [==============================] - 1s 21us/step - loss: 0.0899 - acc: 0.1124\n",
      "Epoch 20/20\n",
      "60000/60000 [==============================] - 1s 18us/step - loss: 0.0898 - acc: 0.1124\n"
     ]
    }
   ],
   "source": [
    "model_3= Sequential()\n",
    "model_3.add(Dense(4, input_dim = 28*28))\n",
    "model_3.add(Activation('hard_sigmoid'))\n",
    "model_3.add(Dense(2))\n",
    "model_3.add(Activation('hard_sigmoid'))\n",
    "model_3.add(Dense(10))\n",
    "model_3.add(Activation('hard_sigmoid'))\n",
    "model_3.summary()\n",
    "model_3.compile(loss = \"mse\",optimizer=SGD(lr = 0.05),metrics=[\"accuracy\"]) #告知loss function\n",
    "model_3 =model_3.fit(x_train,y_train,batch_size=100,epochs=20)"
   ]
  },
  {
   "cell_type": "markdown",
   "metadata": {},
   "source": [
    "想說過去老師用的hidden layer三層不一樣，這次想試試看都一模一樣使用hard_sigmoid，結果看起來也不錯"
   ]
  },
  {
   "cell_type": "markdown",
   "metadata": {},
   "source": [
    "# 嘗試第四個模型"
   ]
  },
  {
   "cell_type": "markdown",
   "metadata": {},
   "source": [
    "沿用第三個，想試試每次訓練的數量增加，看會不會增加準確率"
   ]
  },
  {
   "cell_type": "code",
   "execution_count": 13,
   "metadata": {},
   "outputs": [
    {
     "name": "stdout",
     "output_type": "stream",
     "text": [
      "_________________________________________________________________\n",
      "Layer (type)                 Output Shape              Param #   \n",
      "=================================================================\n",
      "dense_10 (Dense)             (None, 4)                 3140      \n",
      "_________________________________________________________________\n",
      "activation_10 (Activation)   (None, 4)                 0         \n",
      "_________________________________________________________________\n",
      "dense_11 (Dense)             (None, 2)                 10        \n",
      "_________________________________________________________________\n",
      "activation_11 (Activation)   (None, 2)                 0         \n",
      "_________________________________________________________________\n",
      "dense_12 (Dense)             (None, 10)                30        \n",
      "_________________________________________________________________\n",
      "activation_12 (Activation)   (None, 10)                0         \n",
      "=================================================================\n",
      "Total params: 3,180\n",
      "Trainable params: 3,180\n",
      "Non-trainable params: 0\n",
      "_________________________________________________________________\n",
      "Epoch 1/20\n",
      "60000/60000 [==============================] - 1s 17us/step - loss: 0.2298 - acc: 0.0950\n",
      "Epoch 2/20\n",
      "60000/60000 [==============================] - 1s 11us/step - loss: 0.1905 - acc: 0.0992\n",
      "Epoch 3/20\n",
      "60000/60000 [==============================] - 1s 11us/step - loss: 0.1586 - acc: 0.0993\n",
      "Epoch 4/20\n",
      "60000/60000 [==============================] - 1s 11us/step - loss: 0.1358 - acc: 0.0993\n",
      "Epoch 5/20\n",
      "60000/60000 [==============================] - 1s 11us/step - loss: 0.1198 - acc: 0.0993\n",
      "Epoch 6/20\n",
      "60000/60000 [==============================] - 1s 11us/step - loss: 0.1089 - acc: 0.0992\n",
      "Epoch 7/20\n",
      "60000/60000 [==============================] - 1s 11us/step - loss: 0.1017 - acc: 0.0993\n",
      "Epoch 8/20\n",
      "60000/60000 [==============================] - 1s 11us/step - loss: 0.0970 - acc: 0.0993\n",
      "Epoch 9/20\n",
      "60000/60000 [==============================] - 1s 11us/step - loss: 0.0942 - acc: 0.0992\n",
      "Epoch 10/20\n",
      "60000/60000 [==============================] - 1s 11us/step - loss: 0.0924 - acc: 0.0991\n",
      "Epoch 11/20\n",
      "60000/60000 [==============================] - 1s 11us/step - loss: 0.0914 - acc: 0.0991\n",
      "Epoch 12/20\n",
      "60000/60000 [==============================] - 1s 11us/step - loss: 0.0908 - acc: 0.1027\n",
      "Epoch 13/20\n",
      "60000/60000 [==============================] - 1s 11us/step - loss: 0.0904 - acc: 0.1088\n",
      "Epoch 14/20\n",
      "60000/60000 [==============================] - 1s 11us/step - loss: 0.0902 - acc: 0.1163\n",
      "Epoch 15/20\n",
      "60000/60000 [==============================] - 1s 11us/step - loss: 0.0901 - acc: 0.1251\n",
      "Epoch 16/20\n",
      "60000/60000 [==============================] - 1s 11us/step - loss: 0.0900 - acc: 0.1124\n",
      "Epoch 17/20\n",
      "60000/60000 [==============================] - 1s 11us/step - loss: 0.0900 - acc: 0.1124\n",
      "Epoch 18/20\n",
      "60000/60000 [==============================] - 1s 11us/step - loss: 0.0899 - acc: 0.1124\n",
      "Epoch 19/20\n",
      "60000/60000 [==============================] - 1s 11us/step - loss: 0.0899 - acc: 0.1123\n",
      "Epoch 20/20\n",
      "60000/60000 [==============================] - 1s 11us/step - loss: 0.0899 - acc: 0.1124\n"
     ]
    }
   ],
   "source": [
    "model_4= Sequential()\n",
    "model_4.add(Dense(4, input_dim = 28*28))\n",
    "model_4.add(Activation('hard_sigmoid'))\n",
    "model_4.add(Dense(2))\n",
    "model_4.add(Activation('hard_sigmoid'))\n",
    "model_4.add(Dense(10))\n",
    "model_4.add(Activation('hard_sigmoid'))\n",
    "model_4.summary()\n",
    "model_4.compile(loss = \"mse\",optimizer=SGD(lr = 0.05),metrics=[\"accuracy\"]) #告知loss function\n",
    "model_4 =model_4.fit(x_train,y_train,batch_size=200,epochs=20)"
   ]
  },
  {
   "cell_type": "markdown",
   "metadata": {},
   "source": [
    "雖然有提高，但是只有小幅度提升"
   ]
  },
  {
   "cell_type": "code",
   "execution_count": 24,
   "metadata": {
    "scrolled": true
   },
   "outputs": [
    {
     "data": {
      "text/plain": [
       "<matplotlib.legend.Legend at 0x24f0dd85198>"
      ]
     },
     "execution_count": 24,
     "metadata": {},
     "output_type": "execute_result"
    },
    {
     "data": {
      "image/png": "[encoded data removed]",
      "text/plain": [
       "<Figure size 432x288 with 1 Axes>"
      ]
     },
     "metadata": {
      "needs_background": "light"
     },
     "output_type": "display_data"
    }
   ],
   "source": [
    "plt.plot(model_1.history[\"acc\"])\n",
    "plt.plot(model_2.history[\"acc\"])\n",
    "plt.plot(model_3.history[\"acc\"])\n",
    "plt.plot(model_4.history[\"acc\"])\n",
    "\n",
    "plt.ylabel('accuracy')\n",
    "plt.legend(['model_1','modle_2','modle_3','modle_4'],loc = 'best')"
   ]
  },
  {
   "cell_type": "markdown",
   "metadata": {},
   "source": [
    "從上面4個，接下來要來找最好的模型，方向可能是增加神經元素量和hidden layer著手"
   ]
  },
  {
   "cell_type": "markdown",
   "metadata": {},
   "source": [
    "# 第一個最佳解"
   ]
  },
  {
   "cell_type": "markdown",
   "metadata": {},
   "source": [
    "將第一個神經元數量提升至20，第二個提升至100"
   ]
  },
  {
   "cell_type": "code",
   "execution_count": 21,
   "metadata": {},
   "outputs": [
    {
     "name": "stdout",
     "output_type": "stream",
     "text": [
      "_________________________________________________________________\n",
      "Layer (type)                 Output Shape              Param #   \n",
      "=================================================================\n",
      "dense_22 (Dense)             (None, 20)                15700     \n",
      "_________________________________________________________________\n",
      "activation_22 (Activation)   (None, 20)                0         \n",
      "_________________________________________________________________\n",
      "dense_23 (Dense)             (None, 100)               2100      \n",
      "_________________________________________________________________\n",
      "activation_23 (Activation)   (None, 100)               0         \n",
      "_________________________________________________________________\n",
      "dense_24 (Dense)             (None, 10)                1010      \n",
      "_________________________________________________________________\n",
      "activation_24 (Activation)   (None, 10)                0         \n",
      "=================================================================\n",
      "Total params: 18,810\n",
      "Trainable params: 18,810\n",
      "Non-trainable params: 0\n",
      "_________________________________________________________________\n",
      "Epoch 1/20\n",
      "60000/60000 [==============================] - 3s 53us/step - loss: 0.1092 - acc: 0.4400\n",
      "Epoch 2/20\n",
      "60000/60000 [==============================] - 2s 31us/step - loss: 0.0770 - acc: 0.6076\n",
      "Epoch 3/20\n",
      "60000/60000 [==============================] - 2s 32us/step - loss: 0.0589 - acc: 0.7003\n",
      "Epoch 4/20\n",
      "60000/60000 [==============================] - 2s 32us/step - loss: 0.0551 - acc: 0.7205\n",
      "Epoch 5/20\n",
      "60000/60000 [==============================] - 2s 33us/step - loss: 0.0540 - acc: 0.7264\n",
      "Epoch 6/20\n",
      "60000/60000 [==============================] - 2s 33us/step - loss: 0.0529 - acc: 0.7321\n",
      "Epoch 7/20\n",
      "60000/60000 [==============================] - 2s 32us/step - loss: 0.0517 - acc: 0.7388\n",
      "Epoch 8/20\n",
      "60000/60000 [==============================] - 2s 33us/step - loss: 0.0513 - acc: 0.7411\n",
      "Epoch 9/20\n",
      "60000/60000 [==============================] - 2s 34us/step - loss: 0.0512 - acc: 0.7417\n",
      "Epoch 10/20\n",
      "60000/60000 [==============================] - 2s 32us/step - loss: 0.0502 - acc: 0.7472\n",
      "Epoch 11/20\n",
      "60000/60000 [==============================] - 2s 34us/step - loss: 0.0498 - acc: 0.7492\n",
      "Epoch 12/20\n",
      "60000/60000 [==============================] - 2s 34us/step - loss: 0.0502 - acc: 0.7470\n",
      "Epoch 13/20\n",
      "60000/60000 [==============================] - 2s 33us/step - loss: 0.0497 - acc: 0.7498\n",
      "Epoch 14/20\n",
      "60000/60000 [==============================] - 2s 33us/step - loss: 0.0499 - acc: 0.7487\n",
      "Epoch 15/20\n",
      "60000/60000 [==============================] - 2s 34us/step - loss: 0.0492 - acc: 0.7524\n",
      "Epoch 16/20\n",
      "60000/60000 [==============================] - 2s 33us/step - loss: 0.0493 - acc: 0.7520\n",
      "Epoch 17/20\n",
      "60000/60000 [==============================] - 2s 34us/step - loss: 0.0487 - acc: 0.7551\n",
      "Epoch 18/20\n",
      "60000/60000 [==============================] - 2s 34us/step - loss: 0.0488 - acc: 0.7548\n",
      "Epoch 19/20\n",
      "60000/60000 [==============================] - 2s 36us/step - loss: 0.0492 - acc: 0.7522\n",
      "Epoch 20/20\n",
      "60000/60000 [==============================] - 3s 47us/step - loss: 0.0490 - acc: 0.7536\n"
     ]
    }
   ],
   "source": [
    "model_best = Sequential()\n",
    "model_best.add(Dense(20, input_dim = 28*28))\n",
    "model_best.add(Activation('softplus'))\n",
    "model_best.add(Dense(100))\n",
    "model_best.add(Activation('softplus'))\n",
    "model_best.add(Dense(10))\n",
    "model_best.add(Activation('softmax'))\n",
    "model_best.summary()\n",
    "model_best.compile(loss = \"mse\",optimizer=SGD(lr = 0.05),metrics=[\"accuracy\"]) #告知loss function\n",
    "model_best = model_best.fit(x_train,y_train,batch_size=100,epochs=20)"
   ]
  },
  {
   "cell_type": "markdown",
   "metadata": {},
   "source": [
    "# 第二個最佳解"
   ]
  },
  {
   "cell_type": "markdown",
   "metadata": {},
   "source": [
    "考慮神經元數量與所在的hidden layer 是否會造成影響，所以將第一層和第二層神經元數量調換"
   ]
  },
  {
   "cell_type": "code",
   "execution_count": 22,
   "metadata": {},
   "outputs": [
    {
     "name": "stdout",
     "output_type": "stream",
     "text": [
      "_________________________________________________________________\n",
      "Layer (type)                 Output Shape              Param #   \n",
      "=================================================================\n",
      "dense_25 (Dense)             (None, 100)               78500     \n",
      "_________________________________________________________________\n",
      "activation_25 (Activation)   (None, 100)               0         \n",
      "_________________________________________________________________\n",
      "dense_26 (Dense)             (None, 20)                2020      \n",
      "_________________________________________________________________\n",
      "activation_26 (Activation)   (None, 20)                0         \n",
      "_________________________________________________________________\n",
      "dense_27 (Dense)             (None, 10)                210       \n",
      "_________________________________________________________________\n",
      "activation_27 (Activation)   (None, 10)                0         \n",
      "=================================================================\n",
      "Total params: 80,730\n",
      "Trainable params: 80,730\n",
      "Non-trainable params: 0\n",
      "_________________________________________________________________\n",
      "Epoch 1/20\n",
      "60000/60000 [==============================] - 2s 37us/step - loss: 0.1238 - acc: 0.3721\n",
      "Epoch 2/20\n",
      "60000/60000 [==============================] - 2s 31us/step - loss: 0.1050 - acc: 0.4681\n",
      "Epoch 3/20\n",
      "60000/60000 [==============================] - 2s 33us/step - loss: 0.0851 - acc: 0.5693\n",
      "Epoch 4/20\n",
      "60000/60000 [==============================] - 2s 32us/step - loss: 0.0749 - acc: 0.6211\n",
      "Epoch 5/20\n",
      "60000/60000 [==============================] - 2s 33us/step - loss: 0.0725 - acc: 0.6336\n",
      "Epoch 6/20\n",
      "60000/60000 [==============================] - 2s 33us/step - loss: 0.0712 - acc: 0.6411\n",
      "Epoch 7/20\n",
      "60000/60000 [==============================] - 2s 32us/step - loss: 0.0703 - acc: 0.6454\n",
      "Epoch 8/20\n",
      "60000/60000 [==============================] - 2s 32us/step - loss: 0.0695 - acc: 0.6499\n",
      "Epoch 9/20\n",
      "60000/60000 [==============================] - 2s 32us/step - loss: 0.0690 - acc: 0.6524\n",
      "Epoch 10/20\n",
      "60000/60000 [==============================] - 2s 32us/step - loss: 0.0685 - acc: 0.6548\n",
      "Epoch 11/20\n",
      "60000/60000 [==============================] - 2s 33us/step - loss: 0.0603 - acc: 0.6948\n",
      "Epoch 12/20\n",
      "60000/60000 [==============================] - 2s 32us/step - loss: 0.0498 - acc: 0.7478\n",
      "Epoch 13/20\n",
      "60000/60000 [==============================] - 2s 33us/step - loss: 0.0489 - acc: 0.7521\n",
      "Epoch 14/20\n",
      "60000/60000 [==============================] - 2s 33us/step - loss: 0.0483 - acc: 0.7555\n",
      "Epoch 15/20\n",
      "60000/60000 [==============================] - 2s 33us/step - loss: 0.0481 - acc: 0.7564\n",
      "Epoch 16/20\n",
      "60000/60000 [==============================] - 2s 33us/step - loss: 0.0479 - acc: 0.7575\n",
      "Epoch 17/20\n",
      "60000/60000 [==============================] - 2s 34us/step - loss: 0.0479 - acc: 0.7575\n",
      "Epoch 18/20\n",
      "60000/60000 [==============================] - 2s 33us/step - loss: 0.0475 - acc: 0.7594\n",
      "Epoch 19/20\n",
      "60000/60000 [==============================] - 2s 32us/step - loss: 0.0471 - acc: 0.7614\n",
      "Epoch 20/20\n",
      "60000/60000 [==============================] - 2s 36us/step - loss: 0.0469 - acc: 0.7624\n"
     ]
    }
   ],
   "source": [
    "model_best_2 = Sequential()\n",
    "model_best_2.add(Dense(100, input_dim = 28*28))\n",
    "model_best_2.add(Activation('softplus'))\n",
    "model_best_2.add(Dense(20))\n",
    "model_best_2.add(Activation('softplus'))\n",
    "model_best_2.add(Dense(10))\n",
    "model_best_2.add(Activation('softmax'))\n",
    "model_best_2.summary()\n",
    "model_best_2.compile(loss = \"mse\",optimizer=SGD(lr = 0.05),metrics=[\"accuracy\"]) #告知loss function\n",
    "model_best_2 = model_best_2.fit(x_train,y_train,batch_size=100,epochs=20)"
   ]
  },
  {
   "cell_type": "markdown",
   "metadata": {},
   "source": [
    "可以發現，最後的結果其實差不多，但是一開始的準確率數度會不太一樣。"
   ]
  },
  {
   "cell_type": "markdown",
   "metadata": {},
   "source": [
    "# 第三個最佳解"
   ]
  },
  {
   "cell_type": "markdown",
   "metadata": {},
   "source": [
    "最後來嘗試增加hidden layer"
   ]
  },
  {
   "cell_type": "code",
   "execution_count": 23,
   "metadata": {},
   "outputs": [
    {
     "name": "stdout",
     "output_type": "stream",
     "text": [
      "_________________________________________________________________\n",
      "Layer (type)                 Output Shape              Param #   \n",
      "=================================================================\n",
      "dense_28 (Dense)             (None, 100)               78500     \n",
      "_________________________________________________________________\n",
      "activation_28 (Activation)   (None, 100)               0         \n",
      "_________________________________________________________________\n",
      "dense_29 (Dense)             (None, 20)                2020      \n",
      "_________________________________________________________________\n",
      "activation_29 (Activation)   (None, 20)                0         \n",
      "_________________________________________________________________\n",
      "dense_30 (Dense)             (None, 20)                420       \n",
      "_________________________________________________________________\n",
      "activation_30 (Activation)   (None, 20)                0         \n",
      "_________________________________________________________________\n",
      "dense_31 (Dense)             (None, 10)                210       \n",
      "_________________________________________________________________\n",
      "activation_31 (Activation)   (None, 10)                0         \n",
      "=================================================================\n",
      "Total params: 81,150\n",
      "Trainable params: 81,150\n",
      "Non-trainable params: 0\n",
      "_________________________________________________________________\n",
      "Epoch 1/20\n",
      "60000/60000 [==============================] - 2s 38us/step - loss: 0.0929 - acc: 0.4181\n",
      "Epoch 2/20\n",
      "60000/60000 [==============================] - 2s 32us/step - loss: 0.0509 - acc: 0.6447\n",
      "Epoch 3/20\n",
      "60000/60000 [==============================] - 2s 32us/step - loss: 0.0406 - acc: 0.7496\n",
      "Epoch 4/20\n",
      "60000/60000 [==============================] - 2s 32us/step - loss: 0.0264 - acc: 0.8563\n",
      "Epoch 5/20\n",
      "60000/60000 [==============================] - 2s 33us/step - loss: 0.0178 - acc: 0.8902\n",
      "Epoch 6/20\n",
      "60000/60000 [==============================] - 2s 32us/step - loss: 0.0153 - acc: 0.9053\n",
      "Epoch 7/20\n",
      "60000/60000 [==============================] - 2s 32us/step - loss: 0.0137 - acc: 0.9149\n",
      "Epoch 8/20\n",
      "60000/60000 [==============================] - 2s 32us/step - loss: 0.0127 - acc: 0.9217\n",
      "Epoch 9/20\n",
      "60000/60000 [==============================] - 2s 38us/step - loss: 0.0116 - acc: 0.9294\n",
      "Epoch 10/20\n",
      "60000/60000 [==============================] - 2s 36us/step - loss: 0.0109 - acc: 0.9328\n",
      "Epoch 11/20\n",
      "60000/60000 [==============================] - 2s 33us/step - loss: 0.0103 - acc: 0.9367\n",
      "Epoch 12/20\n",
      "60000/60000 [==============================] - 2s 33us/step - loss: 0.0097 - acc: 0.9403\n",
      "Epoch 13/20\n",
      "60000/60000 [==============================] - 2s 35us/step - loss: 0.0092 - acc: 0.9436\n",
      "Epoch 14/20\n",
      "60000/60000 [==============================] - 2s 36us/step - loss: 0.0088 - acc: 0.9467\n",
      "Epoch 15/20\n",
      "60000/60000 [==============================] - 2s 33us/step - loss: 0.0083 - acc: 0.9494\n",
      "Epoch 16/20\n",
      "60000/60000 [==============================] - 2s 33us/step - loss: 0.0080 - acc: 0.9511\n",
      "Epoch 17/20\n",
      "60000/60000 [==============================] - 2s 34us/step - loss: 0.0078 - acc: 0.9527\n",
      "Epoch 18/20\n",
      "60000/60000 [==============================] - 2s 33us/step - loss: 0.0073 - acc: 0.9558\n",
      "Epoch 19/20\n",
      "60000/60000 [==============================] - 2s 36us/step - loss: 0.0072 - acc: 0.9561\n",
      "Epoch 20/20\n",
      "60000/60000 [==============================] - 2s 33us/step - loss: 0.0067 - acc: 0.9588\n"
     ]
    }
   ],
   "source": [
    "model_best_3 = Sequential()\n",
    "model_best_3.add(Dense(100, input_dim = 28*28))\n",
    "model_best_3.add(Activation('softplus'))\n",
    "model_best_3.add(Dense(20))\n",
    "model_best_3.add(Activation('softplus'))\n",
    "model_best_3.add(Dense(20))\n",
    "model_best_3.add(Activation('softplus'))\n",
    "model_best_3.add(Dense(10))\n",
    "model_best_3.add(Activation('softmax'))\n",
    "model_best_3.summary()\n",
    "model_best_3.compile(loss = \"mse\",optimizer=SGD(lr = 0.05),metrics=[\"accuracy\"]) #告知loss function\n",
    "model_best_3 = model_best_3.fit(x_train,y_train,batch_size=100,epochs=20)"
   ]
  },
  {
   "cell_type": "code",
   "execution_count": 25,
   "metadata": {},
   "outputs": [
    {
     "data": {
      "text/plain": [
       "<matplotlib.legend.Legend at 0x24f0ddfa358>"
      ]
     },
     "execution_count": 25,
     "metadata": {},
     "output_type": "execute_result"
    },
    {
     "data": {
      "image/png": "[encoded data removed]",
      "text/plain": [
       "<Figure size 432x288 with 1 Axes>"
      ]
     },
     "metadata": {
      "needs_background": "light"
     },
     "output_type": "display_data"
    }
   ],
   "source": [
    "plt.plot(model_best.history[\"acc\"])\n",
    "plt.plot(model_best_2.history[\"acc\"])\n",
    "plt.plot(model_best_3.history[\"acc\"])\n",
    "\n",
    "\n",
    "plt.ylabel('accuracy')\n",
    "plt.legend(['model_best','modle_best_2','modle_best_3'],loc = 'best')"
   ]
  },
  {
   "cell_type": "markdown",
   "metadata": {},
   "source": [
    "# 結論"
   ]
  },
  {
   "cell_type": "markdown",
   "metadata": {},
   "source": [
    "我認為要提高準確率可以使用"
   ]
  },
  {
   "cell_type": "markdown",
   "metadata": {},
   "source": [
    "1. 提高其中的神經元數量\n",
    "2. 增加hidden layer 數量\n",
    "3. 多訓練幾次，並多嘗試"
   ]
  },
  {
   "cell_type": "code",
   "execution_count": null,
   "metadata": {},
   "outputs": [],
   "source": []
  }
 ],
 "metadata": {
  "kernelspec": {
   "display_name": "Python 3",
   "language": "python",
   "name": "python3"
  },
  "language_info": {
   "codemirror_mode": {
    "name": "ipython",
    "version": 3
   },
   "file_extension": ".py",
   "mimetype": "text/x-python",
   "name": "python",
   "nbconvert_exporter": "python",
   "pygments_lexer": "ipython3",
   "version": "3.6.8"
  }
 },
 "nbformat": 4,
 "nbformat_minor": 2
}
