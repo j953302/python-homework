{
 "cells": [
  {
   "cell_type": "code",
   "execution_count": 65,
   "metadata": {},
   "outputs": [
    {
     "name": "stdout",
     "output_type": "stream",
     "text": [
      "200\n"
     ]
    }
   ],
   "source": [
    "import requests as rq\n",
    "from bs4 import BeautifulSoup\n",
    "\n",
    "url=\"http://training.tabc.org.tw/files/901-1000-6,c0-2.php\" # PTT NBA 板\n",
    "headers = {\n",
    "            \"Cookie\":\"11_srd\",\n",
    "            \"User-Agent\":\"Mozilla/5.0 (Windows NT 10.0; Win64; x64) AppleWebKit/537.36 (KHTML, like Gecko) Chrome/63.0.3239.132 Safari/537.36\",\n",
    "        }\n",
    "response = rq.get(url, headers = headers) # 用 requests 的 get 方法把網頁抓下來\n",
    "print(response.status_code)"
   ]
  },
  {
   "cell_type": "code",
   "execution_count": 66,
   "metadata": {},
   "outputs": [],
   "source": [
    "response .encoding='utf-8'\n",
    "html_doc = response.text # text 屬性就是 html 檔案\n",
    "soup = BeautifulSoup(html_doc , 'lxml') # 指定 lxml 作為解析器\n",
    "ranks = soup.select('.col_middle')\n",
    "#print(soup.prettify())# 把排版後的 html 印出來\n",
    "#print(ranks)"
   ]
  },
  {
   "cell_type": "code",
   "execution_count": 67,
   "metadata": {},
   "outputs": [
    {
     "name": "stdout",
     "output_type": "stream",
     "text": [
      "[]\n"
     ]
    }
   ],
   "source": [
    "print(soup.find_all(text=\"108年BIM機電實務操作\"))\n",
    "#['Python3网络爬虫(三)：urllib.error异常']"
   ]
  },
  {
   "cell_type": "code",
   "execution_count": 68,
   "metadata": {},
   "outputs": [],
   "source": [
    "from selenium import webdriver\n",
    "browser = webdriver.Chrome()\n",
    "browser.get(url)\n",
    "#print(browser.page_source)"
   ]
  },
  {
   "cell_type": "code",
   "execution_count": 69,
   "metadata": {},
   "outputs": [],
   "source": [
    "soup = BeautifulSoup(browser.page_source, 'lxml')"
   ]
  },
  {
   "cell_type": "code",
   "execution_count": 70,
   "metadata": {},
   "outputs": [
    {
     "name": "stdout",
     "output_type": "stream",
     "text": [
      "2019前瞻防火安全科技研討會-9/25報名網址: https://reurl.cc/elnWK (9/25及9/26場次，分開報名)\n",
      "0\n",
      "【臺北班】108年BIM機電實務操作(第二階)II\n",
      "1\n",
      "【臺北班】108年BIM機電實務操作(第一階)II\n",
      "2\n",
      "108年度建築節能與綠廳舍改善計畫節能技術講習會(臺北場)\n",
      "3\n",
      "108年度建築節能與綠廳舍改善計畫節能技術講習會(臺中場)\n",
      "4\n",
      "108年度建築節能與綠廳舍改善計畫節能技術講習會(高雄場)\n",
      "5\n",
      "108年度智慧生活研習參訪課程 <智慧‧健康>\n",
      "6\n",
      "108年度智慧生活研習參訪課程 <智慧‧節能>\n",
      "7\n",
      "108年度智慧生活研習參訪課程 <智慧‧安全>\n",
      "8\n",
      "108年度智慧生活研習參訪課程 <智慧‧整合>\n",
      "9\n",
      "108年綠建築TAB&Cx 進階實務班\n",
      "10\n"
     ]
    }
   ],
   "source": [
    "\n",
    "grades = soup.find_all('a')\n",
    "i = 0\n",
    "for grade in grades:\n",
    "    if '<a class=\"otabc_link' in str(grade):\n",
    "        print(grade.get_text())\n",
    "        print(i)\n",
    "        i += 1\n",
    "        if i == 11:\n",
    "            break\n",
    "    "
   ]
  },
  {
   "cell_type": "code",
   "execution_count": 71,
   "metadata": {},
   "outputs": [
    {
     "name": "stdout",
     "output_type": "stream",
     "text": [
      "報名已截止(免費)\n",
      "報名中\n",
      "報名中\n",
      "報名已額滿(免費)\n",
      "報名已額滿(免費)\n",
      "報名已額滿(免費)\n",
      "報名已截止(免費)\n",
      "報名已截止(免費)\n",
      "報名已截止(免費)\n",
      "報名已截止(免費)\n",
      "報名中\n",
      "報名中\n",
      "報名已截止(免費)\n",
      "報名已截止(免費)\n",
      "報名已額滿(免費)\n",
      "報名已截止(免費)\n",
      "報名已截止(免費)\n",
      "報名已截止(免費)\n",
      "報名已截止(免費)\n",
      "報名已截止(免費)\n"
     ]
    }
   ],
   "source": [
    "grades = soup.find_all('font')\n",
    "for grade in grades:\n",
    "    if '<font' in str(grade):\n",
    "        print(grade.get_text())"
   ]
  },
  {
   "cell_type": "code",
   "execution_count": 72,
   "metadata": {},
   "outputs": [
    {
     "name": "stdout",
     "output_type": "stream",
     "text": [
      "http://training.tabc.org.tw/files/902-1000-832.php\n",
      "http://training.tabc.org.tw/files/902-1000-831.php\n",
      "http://training.tabc.org.tw/files/902-1000-830.php\n",
      "http://training.tabc.org.tw/files/902-1000-829.php\n",
      "http://training.tabc.org.tw/files/902-1000-828.php\n",
      "http://training.tabc.org.tw/files/902-1000-827.php\n",
      "http://training.tabc.org.tw/files/902-1000-823.php\n",
      "http://training.tabc.org.tw/files/902-1000-822.php\n",
      "http://training.tabc.org.tw/files/902-1000-821.php\n",
      "http://training.tabc.org.tw/files/902-1000-820.php\n",
      "http://training.tabc.org.tw/files/902-1000-817.php\n",
      "http://training.tabc.org.tw/files/902-1000-816.php\n",
      "http://training.tabc.org.tw/files/902-1000-815.php\n",
      "http://training.tabc.org.tw/files/902-1000-814.php\n",
      "http://training.tabc.org.tw/files/902-1000-813.php\n",
      "http://training.tabc.org.tw/files/902-1000-812.php\n",
      "http://training.tabc.org.tw/files/902-1000-811.php\n",
      "http://training.tabc.org.tw/files/902-1000-810.php\n",
      "http://training.tabc.org.tw/files/902-1000-809.php\n",
      "http://training.tabc.org.tw/files/902-1000-808.php\n"
     ]
    }
   ],
   "source": [
    "grades = soup.find_all('a')\n",
    "i = 0\n",
    "for grade in grades:\n",
    "    if 'a class=\"otabc_link\"' in str(grade):\n",
    "        #print(grade)\n",
    "        print(grade.attrs[\"href\"])"
   ]
  },
  {
   "cell_type": "code",
   "execution_count": 73,
   "metadata": {},
   "outputs": [],
   "source": [
    "soup = BeautifulSoup(browser.page_source, 'lxml')"
   ]
  },
  {
   "cell_type": "code",
   "execution_count": 74,
   "metadata": {},
   "outputs": [],
   "source": [
    "grades = soup.find_all(\"div\")\n",
    "i = 0\n",
    "for grade in grades:\n",
    "    if 'news-list' in str(grade):\n",
    "        if \"span\" in str(grade):\n",
    "            print(i)\n",
    "            print(grade.attrs)\n",
    "            i +=1\n",
    "            \n"
   ]
  },
  {
   "cell_type": "code",
   "execution_count": 75,
   "metadata": {},
   "outputs": [
    {
     "data": {
      "text/plain": [
       "{'class': ['copyright']}"
      ]
     },
     "execution_count": 75,
     "metadata": {},
     "output_type": "execute_result"
    }
   ],
   "source": [
    "grade.attrs"
   ]
  },
  {
   "cell_type": "code",
   "execution_count": 76,
   "metadata": {},
   "outputs": [],
   "source": [
    "#for test in str(grade).split(\"\\n\"):\n",
    "#    if '<a href' in str(test):\n",
    "browser.quit()        "
   ]
  },
  {
   "cell_type": "code",
   "execution_count": 77,
   "metadata": {},
   "outputs": [
    {
     "name": "stdout",
     "output_type": "stream",
     "text": [
      "200\n",
      "[<div class=\"news-list\">\n",
      "<span class=\"news-note\">2019年07月08日 10:41:53</span>\n",
      "<a href=\"http://www.tabc.org.tw/tw/modules/news/index.php?storytopic=2\">活動花絮</a>：\n",
      "\t\t\t\t<a href=\"http://www.tabc.org.tw/tw/modules/news/article.php?storyid=1854\" title=\" 桃園市政府新建工程處至本中心拜訪交流 \">\n",
      "\t\t\t\t\t 桃園市政府新建工程處至本中心拜訪交流 \n",
      "\t\t\t\t</a>\n",
      "</div>, <div class=\"news-list\">\n",
      "<span class=\"news-note\">2019年07月05日 10:44:26</span>\n",
      "<a href=\"http://www.tabc.org.tw/tw/modules/news/index.php?storytopic=15\">最新公告</a>：\n",
      "\t\t\t\t<a href=\"http://www.tabc.org.tw/tw/modules/news/article.php?storyid=1853\" title=\" 本中心即日起接受CNS 11227-1(105年版)防火門商品驗證登錄業務 \">\n",
      "\t\t\t\t\t 本中心即日起接受CNS 11227-1(105年版)防火門商品驗證登錄業務 \n",
      "\t\t\t\t</a>\n",
      "</div>, <div class=\"news-list\">\n",
      "<span class=\"news-note\">2019年07月05日 10:10:00</span>\n",
      "<a href=\"http://www.tabc.org.tw/tw/modules/news/index.php?storytopic=12\">(建材檢驗)</a>：\n",
      "\t\t\t\t<a href=\"http://www.tabc.org.tw/tw/modules/news/article.php?storyid=1852\" title=\" 本中心即日起接受CNS 11227-1(105年版)防火門商品驗證登錄業務 \">\n",
      "\t\t\t\t\t 本中心即日起接受CNS 11227-1(105年版)防火門商品驗證登錄業務 \n",
      "\t\t\t\t</a>\n",
      "</div>, <div class=\"news-list\">\n",
      "<span class=\"news-note\">2019年07月04日 18:01:57</span>\n",
      "<a href=\"http://www.tabc.org.tw/tw/modules/news/index.php?storytopic=1\">轉知訊息</a>：\n",
      "\t\t\t\t<a href=\"http://www.tabc.org.tw/tw/modules/news/article.php?storyid=1851\" title=\" 臺灣建築學會舉辦「建築物室內裝修工程管理」學術科講習班 \">\n",
      "\t\t\t\t\t 臺灣建築學會舉辦「建築物室內裝修工程管理」學術科講習班 \n",
      "\t\t\t\t</a>\n",
      "</div>, <div class=\"news-list\">\n",
      "<span class=\"news-note\">2019年07月04日 17:56:03</span>\n",
      "<a href=\"http://www.tabc.org.tw/tw/modules/news/index.php?storytopic=1\">轉知訊息</a>：\n",
      "\t\t\t\t<a href=\"http://www.tabc.org.tw/tw/modules/news/article.php?storyid=1850\" title=\" 內政部委託社團法人台灣景觀環境學會辦理108年度「庭園、景觀工程專業營造業專任工程人員之專任工程技術課程講習」 \">\n",
      "\t\t\t\t\t 內政部委託社團法人台灣景觀環境學會辦理108年度「庭園、景觀工程專業營造業專任工程人員之專任工程技術課程講習」 \n",
      "\t\t\t\t</a>\n",
      "</div>, <div class=\"news-list\">\n",
      "<span class=\"news-note\">2019年07月03日 10:40:00</span>\n",
      "<a href=\"http://www.tabc.org.tw/tw/modules/news/index.php?storytopic=1\">轉知訊息</a>：\n",
      "\t\t\t\t<a href=\"http://www.tabc.org.tw/tw/modules/news/article.php?storyid=1848\" title=\" 森林及保育政策～「民眾意見問卷調查暨抽獎活動」，歡迎踴躍參加！ \">\n",
      "\t\t\t\t\t 森林及保育政策～「民眾意見問卷調查暨抽獎活動」，歡迎踴躍參加！ \n",
      "\t\t\t\t</a>\n",
      "</div>, <div class=\"news-list\">\n",
      "<span class=\"news-note\">2019年07月03日 10:37:37</span>\n",
      "<a href=\"http://www.tabc.org.tw/tw/modules/news/index.php?storytopic=1\">轉知訊息</a>：\n",
      "\t\t\t\t<a href=\"http://www.tabc.org.tw/tw/modules/news/article.php?storyid=1849\" title=\" 森林及保育政策～「民眾意見問卷調查暨抽獎活動」，歡迎踴躍參加！ \">\n",
      "\t\t\t\t\t 森林及保育政策～「民眾意見問卷調查暨抽獎活動」，歡迎踴躍參加！ \n",
      "\t\t\t\t</a>\n",
      "</div>, <div class=\"news-list\">\n",
      "<span class=\"news-note\">2019年07月03日 10:25:19</span>\n",
      "<a href=\"http://www.tabc.org.tw/tw/modules/news/index.php?storytopic=1\">轉知訊息</a>：\n",
      "\t\t\t\t<a href=\"http://www.tabc.org.tw/tw/modules/news/article.php?storyid=1847\" title=\" 奧地利木材機械化收穫作業技術研習訓練與林業機械考察計畫 \">\n",
      "\t\t\t\t\t 奧地利木材機械化收穫作業技術研習訓練與林業機械考察計畫 \n",
      "\t\t\t\t</a>\n",
      "</div>, <div class=\"news-list\">\n",
      "<span class=\"news-note\">2019年07月03日 10:23:16</span>\n",
      "<a href=\"http://www.tabc.org.tw/tw/modules/news/index.php?storytopic=1\">轉知訊息</a>：\n",
      "\t\t\t\t<a href=\"http://www.tabc.org.tw/tw/modules/news/article.php?storyid=1846\" title=\" 「無人機於木材收穫之應用技術培訓」研習會 \">\n",
      "\t\t\t\t\t 「無人機於木材收穫之應用技術培訓」研習會 \n",
      "\t\t\t\t</a>\n",
      "</div>, <div class=\"news-list\">\n",
      "<span class=\"news-note\">2019年07月02日 17:22:53</span>\n",
      "<a href=\"http://www.tabc.org.tw/tw/modules/news/index.php?storytopic=2\">活動花絮</a>：\n",
      "\t\t\t\t<a href=\"http://www.tabc.org.tw/tw/modules/news/article.php?storyid=1845\" title=\" 中國海南大學教授一行貴賓蒞臨參訪智慧化居住空間展示中心 \">\n",
      "\t\t\t\t\t 中國海南大學教授一行貴賓蒞臨參訪智慧化居住空間展示中心 \n",
      "\t\t\t\t</a>\n",
      "</div>]\n"
     ]
    }
   ],
   "source": [
    "import requests as rq\n",
    "from bs4 import BeautifulSoup\n",
    "url=\"http://www.tabc.org.tw/tw/modules/news/index.php?storytopic=0&storynum=10\" \n",
    "headers = {\n",
    "            \"Cookie\":\"11_srd\",\n",
    "            \"User-Agent\":\"Mozilla/5.0 (Windows NT 10.0; Win64; x64) AppleWebKit/537.36 (KHTML, like Gecko) Chrome/63.0.3239.132 Safari/537.36\",\n",
    "        }\n",
    "response = rq.get(url, headers = headers) # 用 requests 的 get 方法把網頁抓下來\n",
    "print(response.status_code)\n",
    "response .encoding='utf-8'\n",
    "html_doc = response.text # text 屬性就是 html 檔案\n",
    "soup = BeautifulSoup(html_doc , 'lxml') # 指定 lxml 作為解析器\n",
    "ranks = soup.find_all(class_='news-list')\n",
    "#print(soup.prettify())# 把排版後的 html 印出來\n",
    "print(ranks)"
   ]
  },
  {
   "cell_type": "code",
   "execution_count": 78,
   "metadata": {},
   "outputs": [
    {
     "name": "stdout",
     "output_type": "stream",
     "text": [
      "2019年07月08日 10:41:53活動花絮：\t\t\t\t\t\t\t\t\t 桃園市政府新建工程處至本中心拜訪交流 \t\t\t\t\n",
      "2019年07月05日 10:44:26最新公告：\t\t\t\t\t\t\t\t\t 本中心即日起接受CNS 11227-1(105年版)防火門商品驗證登錄業務 \t\t\t\t\n",
      "2019年07月05日 10:10:00(建材檢驗)：\t\t\t\t\t\t\t\t\t 本中心即日起接受CNS 11227-1(105年版)防火門商品驗證登錄業務 \t\t\t\t\n",
      "2019年07月04日 18:01:57轉知訊息：\t\t\t\t\t\t\t\t\t 臺灣建築學會舉辦「建築物室內裝修工程管理」學術科講習班 \t\t\t\t\n",
      "2019年07月04日 17:56:03轉知訊息：\t\t\t\t\t\t\t\t\t 內政部委託社團法人台灣景觀環境學會辦理108年度「庭園、景觀工程專業營造業專任工程人員之專任工程技術課程講習」 \t\t\t\t\n",
      "2019年07月03日 10:40:00轉知訊息：\t\t\t\t\t\t\t\t\t 森林及保育政策～「民眾意見問卷調查暨抽獎活動」，歡迎踴躍參加！ \t\t\t\t\n",
      "2019年07月03日 10:37:37轉知訊息：\t\t\t\t\t\t\t\t\t 森林及保育政策～「民眾意見問卷調查暨抽獎活動」，歡迎踴躍參加！ \t\t\t\t\n",
      "2019年07月03日 10:25:19轉知訊息：\t\t\t\t\t\t\t\t\t 奧地利木材機械化收穫作業技術研習訓練與林業機械考察計畫 \t\t\t\t\n",
      "2019年07月03日 10:23:16轉知訊息：\t\t\t\t\t\t\t\t\t 「無人機於木材收穫之應用技術培訓」研習會 \t\t\t\t\n",
      "2019年07月02日 17:22:53活動花絮：\t\t\t\t\t\t\t\t\t 中國海南大學教授一行貴賓蒞臨參訪智慧化居住空間展示中心 \t\t\t\t\n"
     ]
    }
   ],
   "source": [
    "import re\n",
    "for name in ranks:\n",
    "    print(re.sub(r'\\n','', name.text))"
   ]
  },
  {
   "cell_type": "code",
   "execution_count": 79,
   "metadata": {},
   "outputs": [],
   "source": [
    "grades = soup.find_all(class_ = \"productslist\")\n",
    "i = 0\n",
    "for grade in grades:\n",
    "    print(re.sub(r' ','\\n', grade.get_text()))\n",
    "    print(i)\n",
    "    i += 1\n",
    "    if i == 11:\n",
    "        break"
   ]
  },
  {
   "cell_type": "code",
   "execution_count": 80,
   "metadata": {},
   "outputs": [],
   "source": [
    "grades = soup.find_all(\"a\")\n",
    "i = 0\n",
    "for grade in grades:\n",
    "    if 'img src' in str(grade):\n",
    "        test = str(grade.select(\"img\"))\n",
    "        a = test.find(\"\\\"\")\n",
    "        b = test.find(\"\\\"\",11)\n",
    "        print(test[a+1:b])\n",
    "        print(i)\n",
    "        i += 1\n"
   ]
  },
  {
   "cell_type": "code",
   "execution_count": 81,
   "metadata": {},
   "outputs": [],
   "source": [
    "browser.quit()"
   ]
  }
 ],
 "metadata": {
  "kernelspec": {
   "display_name": "Python 3",
   "language": "python",
   "name": "python3"
  },
  "language_info": {
   "codemirror_mode": {
    "name": "ipython",
    "version": 3
   },
   "file_extension": ".py",
   "mimetype": "text/x-python",
   "name": "python",
   "nbconvert_exporter": "python",
   "pygments_lexer": "ipython3",
   "version": "3.6.8"
  },
  "widgets": {
   "state": {},
   "version": "1.1.2"
  }
 },
 "nbformat": 4,
 "nbformat_minor": 2
}
