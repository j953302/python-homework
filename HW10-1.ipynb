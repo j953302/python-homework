{
 "cells": [
  {
   "cell_type": "code",
   "execution_count": 1,
   "metadata": {},
   "outputs": [
    {
     "name": "stdout",
     "output_type": "stream",
     "text": [
      "env: KERAS_BACKEND=tensorflow\n"
     ]
    },
    {
     "name": "stderr",
     "output_type": "stream",
     "text": [
      "Using TensorFlow backend.\n"
     ]
    }
   ],
   "source": [
    "%env KERAS_BACKEND = tensorflow\n",
    "\n",
    "%matplotlib inline\n",
    "import numpy as np\n",
    "import matplotlib.pyplot as plt\n",
    "from keras.datasets import imdb"
   ]
  },
  {
   "cell_type": "code",
   "execution_count": 2,
   "metadata": {},
   "outputs": [],
   "source": [
    "from keras.preprocessing import sequence\n",
    "from keras.models import Sequential\n",
    "from keras.layers import Dense, Embedding\n",
    "from keras.layers import LSTM"
   ]
  },
  {
   "cell_type": "code",
   "execution_count": 3,
   "metadata": {},
   "outputs": [],
   "source": [
    "(x_train,y_train),(x_test,y_test) = imdb.load_data(num_words = 10000)"
   ]
  },
  {
   "cell_type": "code",
   "execution_count": 4,
   "metadata": {},
   "outputs": [
    {
     "name": "stdout",
     "output_type": "stream",
     "text": [
      "順練總筆數: 25000\n",
      "測試總筆數: 25000\n"
     ]
    }
   ],
   "source": [
    "print(\"順練總筆數:\",len(x_train))\n",
    "print(\"測試總筆數:\",len(x_test))"
   ]
  },
  {
   "cell_type": "code",
   "execution_count": 5,
   "metadata": {},
   "outputs": [],
   "source": [
    "x_train = sequence.pad_sequences(x_train,maxlen=150) #弄成相同長度\n",
    "x_test = sequence.pad_sequences(x_test,maxlen=150)"
   ]
  },
  {
   "cell_type": "code",
   "execution_count": 6,
   "metadata": {},
   "outputs": [
    {
     "data": {
      "text/plain": [
       "(25000, 150)"
      ]
     },
     "execution_count": 6,
     "metadata": {},
     "output_type": "execute_result"
    }
   ],
   "source": [
    "x_train.shape"
   ]
  },
  {
   "cell_type": "markdown",
   "metadata": {},
   "source": [
    "# 建立上課的原始模型"
   ]
  },
  {
   "cell_type": "code",
   "execution_count": 8,
   "metadata": {},
   "outputs": [
    {
     "name": "stdout",
     "output_type": "stream",
     "text": [
      "Epoch 1/2\n",
      "25000/25000 [==============================] - 176s 7ms/step - loss: 0.5182 - acc: 0.7475\n",
      "Epoch 2/2\n",
      "25000/25000 [==============================] - 167s 7ms/step - loss: 0.2997 - acc: 0.8830\n"
     ]
    }
   ],
   "source": [
    "N = 3 #文字壓縮到N維\n",
    "K = 4 #LSTM層K個神經元\n",
    "model = Sequential()\n",
    "model.add(Embedding(10000,N)) #壓縮成N維\n",
    "model.add(LSTM(K)) #輸入就是前面的輸出 keras會自己決定\n",
    "model.add(Dense(1,activation='sigmoid'))\n",
    "model.compile(loss='binary_crossentropy', optimizer='adam', metrics=['accuracy']) #寫RNN時 要注意輸入的資料\n",
    "model.summary()\n",
    "model1 = model.fit(x_train,y_train,batch_size =32,epochs = 2)"
   ]
  },
  {
   "cell_type": "markdown",
   "metadata": {},
   "source": [
    "# 建立自己的模型"
   ]
  },
  {
   "cell_type": "markdown",
   "metadata": {},
   "source": [
    "嘗試加入dropout來避開overfitting"
   ]
  },
  {
   "cell_type": "code",
   "execution_count": 9,
   "metadata": {},
   "outputs": [],
   "source": [
    "from keras.layers import Dropout"
   ]
  },
  {
   "cell_type": "code",
   "execution_count": 11,
   "metadata": {},
   "outputs": [
    {
     "name": "stdout",
     "output_type": "stream",
     "text": [
      "Epoch 1/2\n",
      "25000/25000 [==============================] - 179s 7ms/step - loss: 0.5597 - acc: 0.7244\n",
      "Epoch 2/2\n",
      "25000/25000 [==============================] - 176s 7ms/step - loss: 0.3587 - acc: 0.8606\n"
     ]
    }
   ],
   "source": [
    "N = 3 #文字壓縮到N維\n",
    "K = 4 #LSTM層K個神經元\n",
    "model = Sequential()\n",
    "model.add(Embedding(10000,N)) #壓縮成N維\n",
    "model.add(Dropout(0.4)) #插入40%的dropout\n",
    "model.add(LSTM(K)) #輸入就是前面的輸出 keras會自己決定\n",
    "model.add(Dense(1,activation='sigmoid'))\n",
    "model.compile(loss='binary_crossentropy', optimizer='adam', metrics=['accuracy']) #寫RNN時 要注意輸入的資料\n",
    "model.summary()\n",
    "model2 = model.fit(x_train,y_train,batch_size =32,epochs = 2)"
   ]
  },
  {
   "cell_type": "markdown",
   "metadata": {},
   "source": [
    "顯然沒有比較好"
   ]
  },
  {
   "cell_type": "markdown",
   "metadata": {},
   "source": [
    "# 增加K、N值"
   ]
  },
  {
   "cell_type": "code",
   "execution_count": 12,
   "metadata": {},
   "outputs": [
    {
     "name": "stdout",
     "output_type": "stream",
     "text": [
      "_________________________________________________________________\n",
      "Layer (type)                 Output Shape              Param #   \n",
      "=================================================================\n",
      "embedding_5 (Embedding)      (None, None, 10)          100000    \n",
      "_________________________________________________________________\n",
      "lstm_5 (LSTM)                (None, 10)                840       \n",
      "_________________________________________________________________\n",
      "dense_5 (Dense)              (None, 1)                 11        \n",
      "=================================================================\n",
      "Total params: 100,851\n",
      "Trainable params: 100,851\n",
      "Non-trainable params: 0\n",
      "_________________________________________________________________\n",
      "Epoch 1/2\n",
      "25000/25000 [==============================] - 166s 7ms/step - loss: 0.4333 - acc: 0.7939\n",
      "Epoch 2/2\n",
      "25000/25000 [==============================] - 166s 7ms/step - loss: 0.2510 - acc: 0.9030\n"
     ]
    }
   ],
   "source": [
    "N = 10 #文字壓縮到N維\n",
    "K = 10 #LSTM層K個神經元\n",
    "model = Sequential()\n",
    "model.add(Embedding(10000,N)) #壓縮成N維\n",
    "model.add(LSTM(K)) #輸入就是前面的輸出 keras會自己決定\n",
    "model.add(Dense(1,activation='sigmoid'))\n",
    "model.compile(loss='binary_crossentropy', optimizer='adam', metrics=['accuracy']) #寫RNN時 要注意輸入的資料\n",
    "model.summary()\n",
    "model3 = model.fit(x_train,y_train,batch_size =32,epochs = 2)"
   ]
  },
  {
   "cell_type": "markdown",
   "metadata": {},
   "source": [
    "N從3 >> 10"
   ]
  },
  {
   "cell_type": "markdown",
   "metadata": {},
   "source": [
    "K 從 4>> 10"
   ]
  },
  {
   "cell_type": "markdown",
   "metadata": {},
   "source": [
    "準確度上升2%"
   ]
  },
  {
   "cell_type": "code",
   "execution_count": 14,
   "metadata": {},
   "outputs": [
    {
     "data": {
      "image/png": "[encoded data removed]",
      "text/plain": [
       "<Figure size 432x288 with 1 Axes>"
      ]
     },
     "metadata": {
      "needs_background": "light"
     },
     "output_type": "display_data"
    }
   ],
   "source": [
    "plt.plot(model1.history[\"acc\"])\n",
    "plt.plot(model2.history[\"acc\"])\n",
    "plt.plot(model3.history[\"acc\"])\n",
    "\n",
    "plt.ylabel(\"Accuracy\")\n",
    "plt.xlabel(\"Epoch\")\n",
    "plt.legend([\"origin\",\"drop\",\"N10,K10\"], loc=\"best\")\n",
    "plt.show()"
   ]
  },
  {
   "cell_type": "code",
   "execution_count": null,
   "metadata": {},
   "outputs": [],
   "source": []
  }
 ],
 "metadata": {
  "kernelspec": {
   "display_name": "Python 3",
   "language": "python",
   "name": "python3"
  },
  "language_info": {
   "codemirror_mode": {
    "name": "ipython",
    "version": 3
   },
   "file_extension": ".py",
   "mimetype": "text/x-python",
   "name": "python",
   "nbconvert_exporter": "python",
   "pygments_lexer": "ipython3",
   "version": "3.6.8"
  }
 },
 "nbformat": 4,
 "nbformat_minor": 2
}
