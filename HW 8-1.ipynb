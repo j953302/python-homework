{
 "cells": [
  {
   "cell_type": "markdown",
   "metadata": {},
   "source": [
    "# 比較分歧與未分歧的準確率"
   ]
  },
  {
   "cell_type": "markdown",
   "metadata": {},
   "source": [
    "到底分歧之後是效率比較高，還是準確率比較高呢?"
   ]
  },
  {
   "cell_type": "code",
   "execution_count": 1,
   "metadata": {},
   "outputs": [
    {
     "name": "stdout",
     "output_type": "stream",
     "text": [
      "env: KERAS_BACKEND=tensorflow\n"
     ]
    }
   ],
   "source": [
    "%env KERAS_BACKEND = tensorflow"
   ]
  },
  {
   "cell_type": "code",
   "execution_count": 2,
   "metadata": {},
   "outputs": [],
   "source": [
    "%matplotlib inline\n",
    "import numpy as np\n",
    "import matplotlib.pyplot as plt\n",
    "from ipywidgets import interact,IntSlider\n",
    "\n",
    "import time #計算效率"
   ]
  },
  {
   "cell_type": "code",
   "execution_count": 3,
   "metadata": {},
   "outputs": [
    {
     "name": "stderr",
     "output_type": "stream",
     "text": [
      "Using TensorFlow backend.\n"
     ]
    }
   ],
   "source": [
    "from keras.models import Sequential\n",
    "from keras.layers import Dense, Activation\n",
    "from keras.optimizers import SGD, Adam\n",
    "from keras.datasets import mnist\n",
    "from keras.utils import np_utils"
   ]
  },
  {
   "cell_type": "code",
   "execution_count": 4,
   "metadata": {},
   "outputs": [],
   "source": [
    "from keras.models import Model\n",
    "from keras.layers import Input\n",
    "from keras.layers import concatenate, add"
   ]
  },
  {
   "cell_type": "code",
   "execution_count": 5,
   "metadata": {},
   "outputs": [],
   "source": [
    "(x_train,y_train),(x_test,y_test) = mnist.load_data()"
   ]
  },
  {
   "cell_type": "code",
   "execution_count": 6,
   "metadata": {},
   "outputs": [
    {
     "name": "stdout",
     "output_type": "stream",
     "text": [
      "(60000, 28, 28)\n"
     ]
    }
   ],
   "source": [
    "print(x_train.shape)"
   ]
  },
  {
   "cell_type": "code",
   "execution_count": 7,
   "metadata": {},
   "outputs": [],
   "source": [
    "x_train1 = x_train.reshape(60000,28*28)"
   ]
  },
  {
   "cell_type": "code",
   "execution_count": 8,
   "metadata": {},
   "outputs": [
    {
     "name": "stdout",
     "output_type": "stream",
     "text": [
      "(60000, 784)\n"
     ]
    }
   ],
   "source": [
    "print(x_train1.shape)"
   ]
  },
  {
   "cell_type": "code",
   "execution_count": 9,
   "metadata": {},
   "outputs": [],
   "source": [
    "x_test1 = x_test.reshape(10000,28*28)"
   ]
  },
  {
   "cell_type": "code",
   "execution_count": 10,
   "metadata": {},
   "outputs": [],
   "source": [
    "x_train1 -= x_train1.min()\n",
    "x_train1 = x_train1/x_train1.max()\n",
    "x_test1 -= x_test1.min()\n",
    "x_test1 = x_test1/x_test1.max()"
   ]
  },
  {
   "cell_type": "code",
   "execution_count": 11,
   "metadata": {},
   "outputs": [
    {
     "data": {
      "text/plain": [
       "(0.0, 1.0)"
      ]
     },
     "execution_count": 11,
     "metadata": {},
     "output_type": "execute_result"
    }
   ],
   "source": [
    "x_test1.min(), x_test1.max()"
   ]
  },
  {
   "cell_type": "code",
   "execution_count": 12,
   "metadata": {},
   "outputs": [
    {
     "data": {
      "text/plain": [
       "(0.0, 1.0)"
      ]
     },
     "execution_count": 12,
     "metadata": {},
     "output_type": "execute_result"
    }
   ],
   "source": [
    "x_train1.min(), x_train1.max()"
   ]
  },
  {
   "cell_type": "code",
   "execution_count": 13,
   "metadata": {},
   "outputs": [],
   "source": [
    "y_train1 = np_utils.to_categorical(y_train,10)\n",
    "y_test1 = np_utils.to_categorical(y_test,10)"
   ]
  },
  {
   "cell_type": "markdown",
   "metadata": {},
   "source": [
    "![model](./模型1.jpg)"
   ]
  },
  {
   "cell_type": "code",
   "execution_count": 14,
   "metadata": {},
   "outputs": [],
   "source": [
    "x = Input(shape=(784,))"
   ]
  },
  {
   "cell_type": "markdown",
   "metadata": {},
   "source": [
    "此處activation 改用softplus，為上次作業製作最佳化的結果，此處繼續沿用。"
   ]
  },
  {
   "cell_type": "code",
   "execution_count": 15,
   "metadata": {},
   "outputs": [],
   "source": [
    "#定義\n",
    "f_11 = Dense(300, activation='softplus')\n",
    "f_12= Dense(300, activation='softplus')\n",
    "\n",
    "f_21 = Dense(150, activation='softplus')\n",
    "f_22 = Dense(150, activation='softplus')\n",
    "f_23 = Dense(150, activation='softplus')\n",
    "\n",
    "f_3 = Dense(50, activation='softplus')\n",
    "\n",
    "f_4= Dense(10, activation='softmax')"
   ]
  },
  {
   "cell_type": "code",
   "execution_count": 16,
   "metadata": {},
   "outputs": [],
   "source": [
    "#建立\n",
    "h_11 = f_11(x)\n",
    "h_12 = f_12(x)\n",
    "\n",
    "h_21 = f_21(h_11)\n",
    "h_22 = f_22(concatenate([h_11,h_12]))\n",
    "h_23 = f_23(h_12)\n",
    "\n",
    "h_3 = f_3(concatenate([h_21,h_22,h_23]))\n",
    "\n",
    "y = f_4(h_3)"
   ]
  },
  {
   "cell_type": "code",
   "execution_count": 17,
   "metadata": {},
   "outputs": [
    {
     "name": "stdout",
     "output_type": "stream",
     "text": [
      "__________________________________________________________________________________________________\n",
      "Layer (type)                    Output Shape         Param #     Connected to                     \n",
      "==================================================================================================\n",
      "input_1 (InputLayer)            (None, 784)          0                                            \n",
      "__________________________________________________________________________________________________\n",
      "dense_1 (Dense)                 (None, 300)          235500      input_1[0][0]                    \n",
      "__________________________________________________________________________________________________\n",
      "dense_2 (Dense)                 (None, 300)          235500      input_1[0][0]                    \n",
      "__________________________________________________________________________________________________\n",
      "concatenate_1 (Concatenate)     (None, 600)          0           dense_1[0][0]                    \n",
      "                                                                 dense_2[0][0]                    \n",
      "__________________________________________________________________________________________________\n",
      "dense_3 (Dense)                 (None, 150)          45150       dense_1[0][0]                    \n",
      "__________________________________________________________________________________________________\n",
      "dense_4 (Dense)                 (None, 150)          90150       concatenate_1[0][0]              \n",
      "__________________________________________________________________________________________________\n",
      "dense_5 (Dense)                 (None, 150)          45150       dense_2[0][0]                    \n",
      "__________________________________________________________________________________________________\n",
      "concatenate_2 (Concatenate)     (None, 450)          0           dense_3[0][0]                    \n",
      "                                                                 dense_4[0][0]                    \n",
      "                                                                 dense_5[0][0]                    \n",
      "__________________________________________________________________________________________________\n",
      "dense_6 (Dense)                 (None, 50)           22550       concatenate_2[0][0]              \n",
      "__________________________________________________________________________________________________\n",
      "dense_7 (Dense)                 (None, 10)           510         dense_6[0][0]                    \n",
      "==================================================================================================\n",
      "Total params: 674,510\n",
      "Trainable params: 674,510\n",
      "Non-trainable params: 0\n",
      "__________________________________________________________________________________________________\n"
     ]
    }
   ],
   "source": [
    "model = Model(x, y)\n",
    "model.summary()"
   ]
  },
  {
   "cell_type": "markdown",
   "metadata": {},
   "source": [
    "此處使用\"mse\" 為上一次作業做出最佳的結果，這裡決定繼續沿用"
   ]
  },
  {
   "cell_type": "code",
   "execution_count": 18,
   "metadata": {},
   "outputs": [],
   "source": [
    "model.compile(loss = \"mse\",optimizer=SGD(lr = 0.05),metrics=[\"accuracy\"])"
   ]
  },
  {
   "cell_type": "code",
   "execution_count": 19,
   "metadata": {},
   "outputs": [
    {
     "name": "stdout",
     "output_type": "stream",
     "text": [
      "Epoch 1/20\n",
      "60000/60000 [==============================] - 7s 118us/step - loss: 0.0900 - acc: 0.1984\n",
      "Epoch 2/20\n",
      "60000/60000 [==============================] - 7s 112us/step - loss: 0.0859 - acc: 0.3623\n",
      "Epoch 3/20\n",
      "60000/60000 [==============================] - 7s 112us/step - loss: 0.0784 - acc: 0.4798\n",
      "Epoch 4/20\n",
      "60000/60000 [==============================] - 7s 114us/step - loss: 0.0610 - acc: 0.6087\n",
      "Epoch 5/20\n",
      "60000/60000 [==============================] - 7s 116us/step - loss: 0.0432 - acc: 0.7549\n",
      "Epoch 6/20\n",
      "60000/60000 [==============================] - 7s 114us/step - loss: 0.0323 - acc: 0.8201\n",
      "Epoch 7/20\n",
      "60000/60000 [==============================] - 7s 115us/step - loss: 0.0262 - acc: 0.8477\n",
      "Epoch 8/20\n",
      "60000/60000 [==============================] - 7s 114us/step - loss: 0.0228 - acc: 0.8619\n",
      "Epoch 9/20\n",
      "60000/60000 [==============================] - 7s 116us/step - loss: 0.0207 - acc: 0.8721\n",
      "Epoch 10/20\n",
      "60000/60000 [==============================] - 7s 115us/step - loss: 0.0192 - acc: 0.8795\n",
      "Epoch 11/20\n",
      "60000/60000 [==============================] - 7s 116us/step - loss: 0.0182 - acc: 0.8845\n",
      "Epoch 12/20\n",
      "60000/60000 [==============================] - 7s 116us/step - loss: 0.0175 - acc: 0.8886\n",
      "Epoch 13/20\n",
      "60000/60000 [==============================] - 7s 118us/step - loss: 0.0168 - acc: 0.8925 1s - loss: 0\n",
      "Epoch 14/20\n",
      "60000/60000 [==============================] - 7s 120us/step - loss: 0.0163 - acc: 0.8950\n",
      "Epoch 15/20\n",
      "60000/60000 [==============================] - 7s 115us/step - loss: 0.0159 - acc: 0.8975\n",
      "Epoch 16/20\n",
      "60000/60000 [==============================] - 7s 118us/step - loss: 0.0155 - acc: 0.8995\n",
      "Epoch 17/20\n",
      "60000/60000 [==============================] - 7s 120us/step - loss: 0.0152 - acc: 0.9016\n",
      "Epoch 18/20\n",
      "60000/60000 [==============================] - 7s 120us/step - loss: 0.0149 - acc: 0.9033\n",
      "Epoch 19/20\n",
      "60000/60000 [==============================] - 7s 120us/step - loss: 0.0146 - acc: 0.9053\n",
      "Epoch 20/20\n",
      "60000/60000 [==============================] - 7s 119us/step - loss: 0.0144 - acc: 0.9059 0s - loss: 0.01\n",
      "140.03662133216858\n"
     ]
    }
   ],
   "source": [
    "t = time.time()\n",
    "model_fit = model.fit(x_train1, y_train1, batch_size=100, epochs=20)\n",
    "t1 = time.time()\n",
    "print(t1-t)"
   ]
  },
  {
   "cell_type": "markdown",
   "metadata": {},
   "source": [
    "做未分歧的測試"
   ]
  },
  {
   "cell_type": "code",
   "execution_count": 21,
   "metadata": {},
   "outputs": [],
   "source": [
    "x_test2 = Input(shape=(784,))\n",
    "f_1 = Dense(300, activation='softplus')\n",
    "\n",
    "f_2 = Dense(150, activation='softplus')\n",
    "\n",
    "f_3 = Dense(50, activation='softplus')\n",
    "\n",
    "f_4= Dense(10, activation='softmax')\n",
    "\n",
    "h_1 = f_1(x_test2)\n",
    "\n",
    "h_2 = f_2(h_1)\n",
    "\n",
    "h_3 = f_3(h_2)\n",
    "\n",
    "y_test2 = f_4(h_3)"
   ]
  },
  {
   "cell_type": "code",
   "execution_count": 22,
   "metadata": {},
   "outputs": [
    {
     "name": "stdout",
     "output_type": "stream",
     "text": [
      "_________________________________________________________________\n",
      "Layer (type)                 Output Shape              Param #   \n",
      "=================================================================\n",
      "input_2 (InputLayer)         (None, 784)               0         \n",
      "_________________________________________________________________\n",
      "dense_8 (Dense)              (None, 300)               235500    \n",
      "_________________________________________________________________\n",
      "dense_9 (Dense)              (None, 150)               45150     \n",
      "_________________________________________________________________\n",
      "dense_10 (Dense)             (None, 50)                7550      \n",
      "_________________________________________________________________\n",
      "dense_11 (Dense)             (None, 10)                510       \n",
      "=================================================================\n",
      "Total params: 288,710\n",
      "Trainable params: 288,710\n",
      "Non-trainable params: 0\n",
      "_________________________________________________________________\n"
     ]
    }
   ],
   "source": [
    "model2 = Model(x_test2, y_test2)\n",
    "model2.summary()"
   ]
  },
  {
   "cell_type": "code",
   "execution_count": 23,
   "metadata": {},
   "outputs": [],
   "source": [
    "model2.compile(loss = \"mse\",optimizer=SGD(lr = 0.05),metrics=[\"accuracy\"])"
   ]
  },
  {
   "cell_type": "code",
   "execution_count": 24,
   "metadata": {
    "scrolled": true
   },
   "outputs": [
    {
     "name": "stdout",
     "output_type": "stream",
     "text": [
      "Epoch 1/20\n",
      "60000/60000 [==============================] - 4s 73us/step - loss: 0.0901 - acc: 0.2324\n",
      "Epoch 2/20\n",
      "60000/60000 [==============================] - 4s 61us/step - loss: 0.0857 - acc: 0.3377\n",
      "Epoch 3/20\n",
      "60000/60000 [==============================] - 4s 64us/step - loss: 0.0780 - acc: 0.4358\n",
      "Epoch 4/20\n",
      "60000/60000 [==============================] - 4s 63us/step - loss: 0.0638 - acc: 0.5953\n",
      "Epoch 5/20\n",
      "60000/60000 [==============================] - 4s 62us/step - loss: 0.0469 - acc: 0.7179\n",
      "Epoch 6/20\n",
      "60000/60000 [==============================] - 4s 63us/step - loss: 0.0336 - acc: 0.8155\n",
      "Epoch 7/20\n",
      "60000/60000 [==============================] - 4s 64us/step - loss: 0.0263 - acc: 0.8494\n",
      "Epoch 8/20\n",
      "60000/60000 [==============================] - 4s 64us/step - loss: 0.0225 - acc: 0.8655\n",
      "Epoch 9/20\n",
      "60000/60000 [==============================] - 4s 62us/step - loss: 0.0202 - acc: 0.8763\n",
      "Epoch 10/20\n",
      "60000/60000 [==============================] - 4s 61us/step - loss: 0.0188 - acc: 0.8829\n",
      "Epoch 11/20\n",
      "60000/60000 [==============================] - 4s 61us/step - loss: 0.0178 - acc: 0.8874\n",
      "Epoch 12/20\n",
      "60000/60000 [==============================] - 4s 63us/step - loss: 0.0170 - acc: 0.8922\n",
      "Epoch 13/20\n",
      "60000/60000 [==============================] - 4s 63us/step - loss: 0.0164 - acc: 0.8957\n",
      "Epoch 14/20\n",
      "60000/60000 [==============================] - 4s 63us/step - loss: 0.0160 - acc: 0.8974\n",
      "Epoch 15/20\n",
      "60000/60000 [==============================] - 4s 63us/step - loss: 0.0155 - acc: 0.8997\n",
      "Epoch 16/20\n",
      "60000/60000 [==============================] - 4s 63us/step - loss: 0.0152 - acc: 0.9017\n",
      "Epoch 17/20\n",
      "60000/60000 [==============================] - 4s 62us/step - loss: 0.0149 - acc: 0.9040\n",
      "Epoch 18/20\n",
      "60000/60000 [==============================] - 4s 62us/step - loss: 0.0146 - acc: 0.9047\n",
      "Epoch 19/20\n",
      "60000/60000 [==============================] - 4s 62us/step - loss: 0.0144 - acc: 0.9067\n",
      "Epoch 20/20\n",
      "60000/60000 [==============================] - 4s 62us/step - loss: 0.0142 - acc: 0.9079\n",
      "75.98586106300354\n"
     ]
    }
   ],
   "source": [
    "t = time.time()\n",
    "model2_fit = model2.fit(x_train1, y_train1, batch_size=100, epochs=20)\n",
    "t1 = time.time()\n",
    "print(t1-t)"
   ]
  },
  {
   "cell_type": "code",
   "execution_count": 25,
   "metadata": {},
   "outputs": [
    {
     "data": {
      "text/plain": [
       "<function matplotlib.pyplot.show(*args, **kw)>"
      ]
     },
     "execution_count": 25,
     "metadata": {},
     "output_type": "execute_result"
    },
    {
     "data": {
      "image/png": "[encoded data removed]",
      "text/plain": [
       "<Figure size 432x288 with 1 Axes>"
      ]
     },
     "metadata": {
      "needs_background": "light"
     },
     "output_type": "display_data"
    }
   ],
   "source": [
    "plt.plot(model_fit.history['acc'])\n",
    "plt.plot(model2_fit.history['acc'])\n",
    "plt.title('model accuracy')\n",
    "plt.ylabel('accuracy')\n",
    "plt.xlabel('epoch')\n",
    "plt.legend([\"disagree\",\"nodisgree\"],loc = \"best\")\n",
    "plt.show"
   ]
  },
  {
   "cell_type": "markdown",
   "metadata": {},
   "source": [
    "# 結論"
   ]
  },
  {
   "cell_type": "markdown",
   "metadata": {},
   "source": [
    "雖然準確率是差不多的"
   ]
  },
  {
   "cell_type": "markdown",
   "metadata": {},
   "source": [
    "但是效率上是有分歧的需要140秒"
   ]
  },
  {
   "cell_type": "markdown",
   "metadata": {},
   "source": [
    "無分歧的共花費70秒"
   ]
  },
  {
   "cell_type": "markdown",
   "metadata": {},
   "source": []
  }
 ],
 "metadata": {
  "kernelspec": {
   "display_name": "Python 3",
   "language": "python",
   "name": "python3"
  },
  "language_info": {
   "codemirror_mode": {
    "name": "ipython",
    "version": 3
   },
   "file_extension": ".py",
   "mimetype": "text/x-python",
   "name": "python",
   "nbconvert_exporter": "python",
   "pygments_lexer": "ipython3",
   "version": "3.6.8"
  }
 },
 "nbformat": 4,
 "nbformat_minor": 2
}
