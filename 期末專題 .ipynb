{
 "cells": [
  {
   "cell_type": "markdown",
   "metadata": {},
   "source": [
    "# 安全帽識別\n",
    "## 組員：高聖翔  陳俊廷 曾鈺涵"
   ]
  },
  {
   "cell_type": "markdown",
   "metadata": {},
   "source": [
    "## 介紹\n",
    "本專案目標為分辨出路上機車騎士所戴安全帽之類別(全罩式/四分之三/瓜皮/沒戴安全帽)\n"
   ]
  },
  {
   "cell_type": "markdown",
   "metadata": {},
   "source": [
    "## 實作方法\n",
    "1.利用錄影方式，收集機車騎士的影像\n",
    "\n",
    "2.透過opencv將影片分為影格，擷取需要的畫面\n",
    "\n",
    "3.人工進行標記，共分為四類：全罩式/四分之三/瓜皮/沒戴安全帽\n",
    "\n",
    "4.使用CNN模型進行辨識與訓練\n",
    "\n",
    "5.跑各種模型找出最佳模型"
   ]
  },
  {
   "cell_type": "markdown",
   "metadata": {},
   "source": [
    "## 專案排程\n",
    "5/26 收集資料完成\n",
    "\n",
    "5/29 標記完成\n",
    "\n",
    "5/30-6/4:各種模型嘗試"
   ]
  },
  {
   "cell_type": "markdown",
   "metadata": {},
   "source": [
    "![未來期望呈現方式](picture.jpg)"
   ]
  },
  {
   "cell_type": "markdown",
   "metadata": {},
   "source": [
    "手繪呈現未來期望狀況"
   ]
  },
  {
   "cell_type": "code",
   "execution_count": null,
   "metadata": {},
   "outputs": [],
   "source": []
  }
 ],
 "metadata": {
  "kernelspec": {
   "display_name": "Python 3",
   "language": "python",
   "name": "python3"
  },
  "language_info": {
   "codemirror_mode": {
    "name": "ipython",
    "version": 3
   },
   "file_extension": ".py",
   "mimetype": "text/x-python",
   "name": "python",
   "nbconvert_exporter": "python",
   "pygments_lexer": "ipython3",
   "version": "3.6.8"
  }
 },
 "nbformat": 4,
 "nbformat_minor": 2
}
