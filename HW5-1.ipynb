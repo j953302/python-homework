{
 "cells": [
  {
   "cell_type": "code",
   "execution_count": 2,
   "metadata": {},
   "outputs": [],
   "source": [
    "%matplotlib inline\n",
    "\n",
    "import numpy as np\n",
    "import matplotlib.pyplot as plt\n",
    "import pandas as pd"
   ]
  },
  {
   "cell_type": "code",
   "execution_count": 18,
   "metadata": {},
   "outputs": [],
   "source": [
    "df = pd.read_excel(\"./table.xls\")"
   ]
  },
  {
   "cell_type": "code",
   "execution_count": 19,
   "metadata": {},
   "outputs": [
    {
     "data": {
      "text/html": [
       "<div>\n",
       "<style scoped>\n",
       "    .dataframe tbody tr th:only-of-type {\n",
       "        vertical-align: middle;\n",
       "    }\n",
       "\n",
       "    .dataframe tbody tr th {\n",
       "        vertical-align: top;\n",
       "    }\n",
       "\n",
       "    .dataframe thead th {\n",
       "        text-align: right;\n",
       "    }\n",
       "</style>\n",
       "<table border=\"1\" class=\"dataframe\">\n",
       "  <thead>\n",
       "    <tr style=\"text-align: right;\">\n",
       "      <th></th>\n",
       "      <th>國民所得統計常用資料</th>\n",
       "      <th>Unnamed: 1</th>\n",
       "      <th>Unnamed: 2</th>\n",
       "      <th>Unnamed: 3</th>\n",
       "      <th>Unnamed: 4</th>\n",
       "      <th>Unnamed: 5</th>\n",
       "      <th>Unnamed: 6</th>\n",
       "      <th>Unnamed: 7</th>\n",
       "      <th>Unnamed: 8</th>\n",
       "      <th>Unnamed: 9</th>\n",
       "      <th>Unnamed: 10</th>\n",
       "      <th>Unnamed: 11</th>\n",
       "      <th>Unnamed: 12</th>\n",
       "      <th>Unnamed: 13</th>\n",
       "      <th>Unnamed: 14</th>\n",
       "      <th>Unnamed: 15</th>\n",
       "    </tr>\n",
       "  </thead>\n",
       "  <tbody>\n",
       "    <tr>\n",
       "      <th>0</th>\n",
       "      <td>NaN</td>\n",
       "      <td>期中\\n人口</td>\n",
       "      <td>平均匯率</td>\n",
       "      <td>經濟\\n成長</td>\n",
       "      <td>名目國內生產\\n毛額(GDP)</td>\n",
       "      <td>NaN</td>\n",
       "      <td>NaN</td>\n",
       "      <td>NaN</td>\n",
       "      <td>名目國民所得\\n毛額(GNI)</td>\n",
       "      <td>NaN</td>\n",
       "      <td>NaN</td>\n",
       "      <td>NaN</td>\n",
       "      <td>名目國民所得\\n(NI)</td>\n",
       "      <td>NaN</td>\n",
       "      <td>NaN</td>\n",
       "      <td>NaN</td>\n",
       "    </tr>\n",
       "    <tr>\n",
       "      <th>1</th>\n",
       "      <td>NaN</td>\n",
       "      <td>NaN</td>\n",
       "      <td>NaN</td>\n",
       "      <td>NaN</td>\n",
       "      <td>NaN</td>\n",
       "      <td>NaN</td>\n",
       "      <td>平均每人\\nGDP</td>\n",
       "      <td>NaN</td>\n",
       "      <td>NaN</td>\n",
       "      <td>NaN</td>\n",
       "      <td>平均每人\\nGNI</td>\n",
       "      <td>NaN</td>\n",
       "      <td>NaN</td>\n",
       "      <td>NaN</td>\n",
       "      <td>平均每人\\n所　得</td>\n",
       "      <td>NaN</td>\n",
       "    </tr>\n",
       "    <tr>\n",
       "      <th>2</th>\n",
       "      <td>NaN</td>\n",
       "      <td>人</td>\n",
       "      <td>元/美元</td>\n",
       "      <td>％</td>\n",
       "      <td>百萬元</td>\n",
       "      <td>百萬美元</td>\n",
       "      <td>元</td>\n",
       "      <td>美元</td>\n",
       "      <td>百萬元</td>\n",
       "      <td>百萬美元</td>\n",
       "      <td>元</td>\n",
       "      <td>美元</td>\n",
       "      <td>百萬元</td>\n",
       "      <td>百萬美元</td>\n",
       "      <td>元</td>\n",
       "      <td>美元</td>\n",
       "    </tr>\n",
       "    <tr>\n",
       "      <th>3</th>\n",
       "      <td>80年</td>\n",
       "      <td>20503568</td>\n",
       "      <td>26.82</td>\n",
       "      <td>8.36</td>\n",
       "      <td>5023763</td>\n",
       "      <td>187314</td>\n",
       "      <td>245019</td>\n",
       "      <td>9136</td>\n",
       "      <td>5159313</td>\n",
       "      <td>192368</td>\n",
       "      <td>251630</td>\n",
       "      <td>9382</td>\n",
       "      <td>4686035</td>\n",
       "      <td>174722</td>\n",
       "      <td>228547</td>\n",
       "      <td>8522</td>\n",
       "    </tr>\n",
       "    <tr>\n",
       "      <th>4</th>\n",
       "      <td>Ⅰ</td>\n",
       "      <td>20425383</td>\n",
       "      <td>27.19</td>\n",
       "      <td>7.03</td>\n",
       "      <td>1193397</td>\n",
       "      <td>43838</td>\n",
       "      <td>58414</td>\n",
       "      <td>2146</td>\n",
       "      <td>1231282</td>\n",
       "      <td>45229</td>\n",
       "      <td>60269</td>\n",
       "      <td>2214</td>\n",
       "      <td>1130436</td>\n",
       "      <td>41522</td>\n",
       "      <td>55333</td>\n",
       "      <td>2032</td>\n",
       "    </tr>\n",
       "  </tbody>\n",
       "</table>\n",
       "</div>"
      ],
      "text/plain": [
       "  國民所得統計常用資料 Unnamed: 1 Unnamed: 2 Unnamed: 3       Unnamed: 4 Unnamed: 5  \\\n",
       "0        NaN     期中\\n人口       平均匯率     經濟\\n成長  名目國內生產\\n毛額(GDP)        NaN   \n",
       "1        NaN        NaN        NaN        NaN              NaN        NaN   \n",
       "2        NaN          人       元/美元          ％              百萬元       百萬美元   \n",
       "3        80年   20503568      26.82       8.36          5023763     187314   \n",
       "4          Ⅰ   20425383      27.19       7.03          1193397      43838   \n",
       "\n",
       "  Unnamed: 6 Unnamed: 7       Unnamed: 8 Unnamed: 9 Unnamed: 10 Unnamed: 11  \\\n",
       "0        NaN        NaN  名目國民所得\\n毛額(GNI)        NaN         NaN         NaN   \n",
       "1  平均每人\\nGDP        NaN              NaN        NaN   平均每人\\nGNI         NaN   \n",
       "2          元         美元              百萬元       百萬美元           元          美元   \n",
       "3     245019       9136          5159313     192368      251630        9382   \n",
       "4      58414       2146          1231282      45229       60269        2214   \n",
       "\n",
       "    Unnamed: 12 Unnamed: 13 Unnamed: 14 Unnamed: 15  \n",
       "0  名目國民所得\\n(NI)         NaN         NaN         NaN  \n",
       "1           NaN         NaN   平均每人\\n所　得         NaN  \n",
       "2           百萬元        百萬美元           元          美元  \n",
       "3       4686035      174722      228547        8522  \n",
       "4       1130436       41522       55333        2032  "
      ]
     },
     "execution_count": 19,
     "metadata": {},
     "output_type": "execute_result"
    }
   ],
   "source": [
    "df.head()"
   ]
  },
  {
   "cell_type": "code",
   "execution_count": 24,
   "metadata": {},
   "outputs": [],
   "source": [
    "df.loc[0][6] = df.loc[1][6]\n",
    "df.loc[0][10] = df.loc[1][10]\n",
    "df.loc[0][14] = df.loc[1][14]"
   ]
  },
  {
   "cell_type": "code",
   "execution_count": 26,
   "metadata": {},
   "outputs": [],
   "source": [
    "df.loc[0][5] = \"美元1\"\n",
    "df.loc[0][7] = \"美元2\"\n",
    "df.loc[0][9] = \"美元3\"\n",
    "df.loc[0][11] = \"美元4\"\n",
    "df.loc[0][13] = \"美元5\"\n",
    "df.loc[0][15] = \"美元6\""
   ]
  },
  {
   "cell_type": "code",
   "execution_count": 27,
   "metadata": {},
   "outputs": [
    {
     "data": {
      "text/html": [
       "<div>\n",
       "<style scoped>\n",
       "    .dataframe tbody tr th:only-of-type {\n",
       "        vertical-align: middle;\n",
       "    }\n",
       "\n",
       "    .dataframe tbody tr th {\n",
       "        vertical-align: top;\n",
       "    }\n",
       "\n",
       "    .dataframe thead th {\n",
       "        text-align: right;\n",
       "    }\n",
       "</style>\n",
       "<table border=\"1\" class=\"dataframe\">\n",
       "  <thead>\n",
       "    <tr style=\"text-align: right;\">\n",
       "      <th></th>\n",
       "      <th>國民所得統計常用資料</th>\n",
       "      <th>Unnamed: 1</th>\n",
       "      <th>Unnamed: 2</th>\n",
       "      <th>Unnamed: 3</th>\n",
       "      <th>Unnamed: 4</th>\n",
       "      <th>Unnamed: 5</th>\n",
       "      <th>Unnamed: 6</th>\n",
       "      <th>Unnamed: 7</th>\n",
       "      <th>Unnamed: 8</th>\n",
       "      <th>Unnamed: 9</th>\n",
       "      <th>Unnamed: 10</th>\n",
       "      <th>Unnamed: 11</th>\n",
       "      <th>Unnamed: 12</th>\n",
       "      <th>Unnamed: 13</th>\n",
       "      <th>Unnamed: 14</th>\n",
       "      <th>Unnamed: 15</th>\n",
       "    </tr>\n",
       "  </thead>\n",
       "  <tbody>\n",
       "    <tr>\n",
       "      <th>0</th>\n",
       "      <td>NaN</td>\n",
       "      <td>期中\\n人口</td>\n",
       "      <td>平均匯率</td>\n",
       "      <td>經濟\\n成長</td>\n",
       "      <td>名目國內生產\\n毛額(GDP)</td>\n",
       "      <td>美元1</td>\n",
       "      <td>平均每人\\nGDP</td>\n",
       "      <td>美元2</td>\n",
       "      <td>名目國民所得\\n毛額(GNI)</td>\n",
       "      <td>美元3</td>\n",
       "      <td>平均每人\\nGNI</td>\n",
       "      <td>美元4</td>\n",
       "      <td>名目國民所得\\n(NI)</td>\n",
       "      <td>美元5</td>\n",
       "      <td>平均每人\\n所　得</td>\n",
       "      <td>美元6</td>\n",
       "    </tr>\n",
       "    <tr>\n",
       "      <th>1</th>\n",
       "      <td>NaN</td>\n",
       "      <td>NaN</td>\n",
       "      <td>NaN</td>\n",
       "      <td>NaN</td>\n",
       "      <td>NaN</td>\n",
       "      <td>NaN</td>\n",
       "      <td>平均每人\\nGDP</td>\n",
       "      <td>NaN</td>\n",
       "      <td>NaN</td>\n",
       "      <td>NaN</td>\n",
       "      <td>平均每人\\nGNI</td>\n",
       "      <td>NaN</td>\n",
       "      <td>NaN</td>\n",
       "      <td>NaN</td>\n",
       "      <td>平均每人\\n所　得</td>\n",
       "      <td>NaN</td>\n",
       "    </tr>\n",
       "    <tr>\n",
       "      <th>2</th>\n",
       "      <td>NaN</td>\n",
       "      <td>人</td>\n",
       "      <td>元/美元</td>\n",
       "      <td>％</td>\n",
       "      <td>百萬元</td>\n",
       "      <td>百萬美元</td>\n",
       "      <td>元</td>\n",
       "      <td>美元</td>\n",
       "      <td>百萬元</td>\n",
       "      <td>百萬美元</td>\n",
       "      <td>元</td>\n",
       "      <td>美元</td>\n",
       "      <td>百萬元</td>\n",
       "      <td>百萬美元</td>\n",
       "      <td>元</td>\n",
       "      <td>美元</td>\n",
       "    </tr>\n",
       "    <tr>\n",
       "      <th>3</th>\n",
       "      <td>80年</td>\n",
       "      <td>20503568</td>\n",
       "      <td>26.82</td>\n",
       "      <td>8.36</td>\n",
       "      <td>5023763</td>\n",
       "      <td>187314</td>\n",
       "      <td>245019</td>\n",
       "      <td>9136</td>\n",
       "      <td>5159313</td>\n",
       "      <td>192368</td>\n",
       "      <td>251630</td>\n",
       "      <td>9382</td>\n",
       "      <td>4686035</td>\n",
       "      <td>174722</td>\n",
       "      <td>228547</td>\n",
       "      <td>8522</td>\n",
       "    </tr>\n",
       "    <tr>\n",
       "      <th>4</th>\n",
       "      <td>Ⅰ</td>\n",
       "      <td>20425383</td>\n",
       "      <td>27.19</td>\n",
       "      <td>7.03</td>\n",
       "      <td>1193397</td>\n",
       "      <td>43838</td>\n",
       "      <td>58414</td>\n",
       "      <td>2146</td>\n",
       "      <td>1231282</td>\n",
       "      <td>45229</td>\n",
       "      <td>60269</td>\n",
       "      <td>2214</td>\n",
       "      <td>1130436</td>\n",
       "      <td>41522</td>\n",
       "      <td>55333</td>\n",
       "      <td>2032</td>\n",
       "    </tr>\n",
       "  </tbody>\n",
       "</table>\n",
       "</div>"
      ],
      "text/plain": [
       "  國民所得統計常用資料 Unnamed: 1 Unnamed: 2 Unnamed: 3       Unnamed: 4 Unnamed: 5  \\\n",
       "0        NaN     期中\\n人口       平均匯率     經濟\\n成長  名目國內生產\\n毛額(GDP)        美元1   \n",
       "1        NaN        NaN        NaN        NaN              NaN        NaN   \n",
       "2        NaN          人       元/美元          ％              百萬元       百萬美元   \n",
       "3        80年   20503568      26.82       8.36          5023763     187314   \n",
       "4          Ⅰ   20425383      27.19       7.03          1193397      43838   \n",
       "\n",
       "  Unnamed: 6 Unnamed: 7       Unnamed: 8 Unnamed: 9 Unnamed: 10 Unnamed: 11  \\\n",
       "0  平均每人\\nGDP        美元2  名目國民所得\\n毛額(GNI)        美元3   平均每人\\nGNI         美元4   \n",
       "1  平均每人\\nGDP        NaN              NaN        NaN   平均每人\\nGNI         NaN   \n",
       "2          元         美元              百萬元       百萬美元           元          美元   \n",
       "3     245019       9136          5159313     192368      251630        9382   \n",
       "4      58414       2146          1231282      45229       60269        2214   \n",
       "\n",
       "    Unnamed: 12 Unnamed: 13 Unnamed: 14 Unnamed: 15  \n",
       "0  名目國民所得\\n(NI)         美元5   平均每人\\n所　得         美元6  \n",
       "1           NaN         NaN   平均每人\\n所　得         NaN  \n",
       "2           百萬元        百萬美元           元          美元  \n",
       "3       4686035      174722      228547        8522  \n",
       "4       1130436       41522       55333        2032  "
      ]
     },
     "execution_count": 27,
     "metadata": {},
     "output_type": "execute_result"
    }
   ],
   "source": [
    "df.head()"
   ]
  },
  {
   "cell_type": "code",
   "execution_count": 28,
   "metadata": {},
   "outputs": [],
   "source": [
    "df.columns = df.loc[0]"
   ]
  },
  {
   "cell_type": "code",
   "execution_count": 29,
   "metadata": {},
   "outputs": [
    {
     "data": {
      "text/html": [
       "<div>\n",
       "<style scoped>\n",
       "    .dataframe tbody tr th:only-of-type {\n",
       "        vertical-align: middle;\n",
       "    }\n",
       "\n",
       "    .dataframe tbody tr th {\n",
       "        vertical-align: top;\n",
       "    }\n",
       "\n",
       "    .dataframe thead th {\n",
       "        text-align: right;\n",
       "    }\n",
       "</style>\n",
       "<table border=\"1\" class=\"dataframe\">\n",
       "  <thead>\n",
       "    <tr style=\"text-align: right;\">\n",
       "      <th></th>\n",
       "      <th>nan</th>\n",
       "      <th>期中\n",
       "人口</th>\n",
       "      <th>平均匯率</th>\n",
       "      <th>經濟\n",
       "成長</th>\n",
       "      <th>名目國內生產\n",
       "毛額(GDP)</th>\n",
       "      <th>美元1</th>\n",
       "      <th>平均每人\n",
       "GDP</th>\n",
       "      <th>美元2</th>\n",
       "      <th>名目國民所得\n",
       "毛額(GNI)</th>\n",
       "      <th>美元3</th>\n",
       "      <th>平均每人\n",
       "GNI</th>\n",
       "      <th>美元4</th>\n",
       "      <th>名目國民所得\n",
       "(NI)</th>\n",
       "      <th>美元5</th>\n",
       "      <th>平均每人\n",
       "所　得</th>\n",
       "      <th>美元6</th>\n",
       "    </tr>\n",
       "  </thead>\n",
       "  <tbody>\n",
       "    <tr>\n",
       "      <th>0</th>\n",
       "      <td>NaN</td>\n",
       "      <td>期中\\n人口</td>\n",
       "      <td>平均匯率</td>\n",
       "      <td>經濟\\n成長</td>\n",
       "      <td>名目國內生產\\n毛額(GDP)</td>\n",
       "      <td>美元1</td>\n",
       "      <td>平均每人\\nGDP</td>\n",
       "      <td>美元2</td>\n",
       "      <td>名目國民所得\\n毛額(GNI)</td>\n",
       "      <td>美元3</td>\n",
       "      <td>平均每人\\nGNI</td>\n",
       "      <td>美元4</td>\n",
       "      <td>名目國民所得\\n(NI)</td>\n",
       "      <td>美元5</td>\n",
       "      <td>平均每人\\n所　得</td>\n",
       "      <td>美元6</td>\n",
       "    </tr>\n",
       "    <tr>\n",
       "      <th>1</th>\n",
       "      <td>NaN</td>\n",
       "      <td>NaN</td>\n",
       "      <td>NaN</td>\n",
       "      <td>NaN</td>\n",
       "      <td>NaN</td>\n",
       "      <td>NaN</td>\n",
       "      <td>平均每人\\nGDP</td>\n",
       "      <td>NaN</td>\n",
       "      <td>NaN</td>\n",
       "      <td>NaN</td>\n",
       "      <td>平均每人\\nGNI</td>\n",
       "      <td>NaN</td>\n",
       "      <td>NaN</td>\n",
       "      <td>NaN</td>\n",
       "      <td>平均每人\\n所　得</td>\n",
       "      <td>NaN</td>\n",
       "    </tr>\n",
       "    <tr>\n",
       "      <th>2</th>\n",
       "      <td>NaN</td>\n",
       "      <td>人</td>\n",
       "      <td>元/美元</td>\n",
       "      <td>％</td>\n",
       "      <td>百萬元</td>\n",
       "      <td>百萬美元</td>\n",
       "      <td>元</td>\n",
       "      <td>美元</td>\n",
       "      <td>百萬元</td>\n",
       "      <td>百萬美元</td>\n",
       "      <td>元</td>\n",
       "      <td>美元</td>\n",
       "      <td>百萬元</td>\n",
       "      <td>百萬美元</td>\n",
       "      <td>元</td>\n",
       "      <td>美元</td>\n",
       "    </tr>\n",
       "    <tr>\n",
       "      <th>3</th>\n",
       "      <td>80年</td>\n",
       "      <td>20503568</td>\n",
       "      <td>26.82</td>\n",
       "      <td>8.36</td>\n",
       "      <td>5023763</td>\n",
       "      <td>187314</td>\n",
       "      <td>245019</td>\n",
       "      <td>9136</td>\n",
       "      <td>5159313</td>\n",
       "      <td>192368</td>\n",
       "      <td>251630</td>\n",
       "      <td>9382</td>\n",
       "      <td>4686035</td>\n",
       "      <td>174722</td>\n",
       "      <td>228547</td>\n",
       "      <td>8522</td>\n",
       "    </tr>\n",
       "    <tr>\n",
       "      <th>4</th>\n",
       "      <td>Ⅰ</td>\n",
       "      <td>20425383</td>\n",
       "      <td>27.19</td>\n",
       "      <td>7.03</td>\n",
       "      <td>1193397</td>\n",
       "      <td>43838</td>\n",
       "      <td>58414</td>\n",
       "      <td>2146</td>\n",
       "      <td>1231282</td>\n",
       "      <td>45229</td>\n",
       "      <td>60269</td>\n",
       "      <td>2214</td>\n",
       "      <td>1130436</td>\n",
       "      <td>41522</td>\n",
       "      <td>55333</td>\n",
       "      <td>2032</td>\n",
       "    </tr>\n",
       "  </tbody>\n",
       "</table>\n",
       "</div>"
      ],
      "text/plain": [
       "0  NaN    期中\\n人口   平均匯率  經濟\\n成長  名目國內生產\\n毛額(GDP)     美元1  平均每人\\nGDP   美元2  \\\n",
       "0  NaN    期中\\n人口   平均匯率  經濟\\n成長  名目國內生產\\n毛額(GDP)     美元1  平均每人\\nGDP   美元2   \n",
       "1  NaN       NaN    NaN     NaN              NaN     NaN  平均每人\\nGDP   NaN   \n",
       "2  NaN         人   元/美元       ％              百萬元    百萬美元          元    美元   \n",
       "3  80年  20503568  26.82    8.36          5023763  187314     245019  9136   \n",
       "4    Ⅰ  20425383  27.19    7.03          1193397   43838      58414  2146   \n",
       "\n",
       "0  名目國民所得\\n毛額(GNI)     美元3  平均每人\\nGNI   美元4  名目國民所得\\n(NI)     美元5  平均每人\\n所　得  \\\n",
       "0  名目國民所得\\n毛額(GNI)     美元3  平均每人\\nGNI   美元4  名目國民所得\\n(NI)     美元5  平均每人\\n所　得   \n",
       "1              NaN     NaN  平均每人\\nGNI   NaN           NaN     NaN  平均每人\\n所　得   \n",
       "2              百萬元    百萬美元          元    美元           百萬元    百萬美元          元   \n",
       "3          5159313  192368     251630  9382       4686035  174722     228547   \n",
       "4          1231282   45229      60269  2214       1130436   41522      55333   \n",
       "\n",
       "0   美元6  \n",
       "0   美元6  \n",
       "1   NaN  \n",
       "2    美元  \n",
       "3  8522  \n",
       "4  2032  "
      ]
     },
     "execution_count": 29,
     "metadata": {},
     "output_type": "execute_result"
    }
   ],
   "source": [
    "df.head()"
   ]
  },
  {
   "cell_type": "code",
   "execution_count": 32,
   "metadata": {},
   "outputs": [],
   "source": [
    "df = df[2:]"
   ]
  },
  {
   "cell_type": "code",
   "execution_count": 33,
   "metadata": {},
   "outputs": [
    {
     "data": {
      "text/html": [
       "<div>\n",
       "<style scoped>\n",
       "    .dataframe tbody tr th:only-of-type {\n",
       "        vertical-align: middle;\n",
       "    }\n",
       "\n",
       "    .dataframe tbody tr th {\n",
       "        vertical-align: top;\n",
       "    }\n",
       "\n",
       "    .dataframe thead th {\n",
       "        text-align: right;\n",
       "    }\n",
       "</style>\n",
       "<table border=\"1\" class=\"dataframe\">\n",
       "  <thead>\n",
       "    <tr style=\"text-align: right;\">\n",
       "      <th></th>\n",
       "      <th>nan</th>\n",
       "      <th>期中\n",
       "人口</th>\n",
       "      <th>平均匯率</th>\n",
       "      <th>經濟\n",
       "成長</th>\n",
       "      <th>名目國內生產\n",
       "毛額(GDP)</th>\n",
       "      <th>美元1</th>\n",
       "      <th>平均每人\n",
       "GDP</th>\n",
       "      <th>美元2</th>\n",
       "      <th>名目國民所得\n",
       "毛額(GNI)</th>\n",
       "      <th>美元3</th>\n",
       "      <th>平均每人\n",
       "GNI</th>\n",
       "      <th>美元4</th>\n",
       "      <th>名目國民所得\n",
       "(NI)</th>\n",
       "      <th>美元5</th>\n",
       "      <th>平均每人\n",
       "所　得</th>\n",
       "      <th>美元6</th>\n",
       "    </tr>\n",
       "  </thead>\n",
       "  <tbody>\n",
       "    <tr>\n",
       "      <th>3</th>\n",
       "      <td>80年</td>\n",
       "      <td>20503568</td>\n",
       "      <td>26.82</td>\n",
       "      <td>8.36</td>\n",
       "      <td>5023763</td>\n",
       "      <td>187314</td>\n",
       "      <td>245019</td>\n",
       "      <td>9136</td>\n",
       "      <td>5159313</td>\n",
       "      <td>192368</td>\n",
       "      <td>251630</td>\n",
       "      <td>9382</td>\n",
       "      <td>4686035</td>\n",
       "      <td>174722</td>\n",
       "      <td>228547</td>\n",
       "      <td>8522</td>\n",
       "    </tr>\n",
       "    <tr>\n",
       "      <th>4</th>\n",
       "      <td>Ⅰ</td>\n",
       "      <td>20425383</td>\n",
       "      <td>27.19</td>\n",
       "      <td>7.03</td>\n",
       "      <td>1193397</td>\n",
       "      <td>43838</td>\n",
       "      <td>58414</td>\n",
       "      <td>2146</td>\n",
       "      <td>1231282</td>\n",
       "      <td>45229</td>\n",
       "      <td>60269</td>\n",
       "      <td>2214</td>\n",
       "      <td>1130436</td>\n",
       "      <td>41522</td>\n",
       "      <td>55333</td>\n",
       "      <td>2032</td>\n",
       "    </tr>\n",
       "    <tr>\n",
       "      <th>5</th>\n",
       "      <td>Ⅱ</td>\n",
       "      <td>20470490</td>\n",
       "      <td>27.26</td>\n",
       "      <td>8.63</td>\n",
       "      <td>1237128</td>\n",
       "      <td>45329</td>\n",
       "      <td>60422</td>\n",
       "      <td>2214</td>\n",
       "      <td>1262851</td>\n",
       "      <td>46269</td>\n",
       "      <td>61678</td>\n",
       "      <td>2260</td>\n",
       "      <td>1124074</td>\n",
       "      <td>41182</td>\n",
       "      <td>54900</td>\n",
       "      <td>2011</td>\n",
       "    </tr>\n",
       "    <tr>\n",
       "      <th>6</th>\n",
       "      <td>Ⅲ</td>\n",
       "      <td>20517601</td>\n",
       "      <td>26.76</td>\n",
       "      <td>9.18</td>\n",
       "      <td>1260298</td>\n",
       "      <td>47039</td>\n",
       "      <td>61412</td>\n",
       "      <td>2292</td>\n",
       "      <td>1293677</td>\n",
       "      <td>48285</td>\n",
       "      <td>63038</td>\n",
       "      <td>2353</td>\n",
       "      <td>1181873</td>\n",
       "      <td>44109</td>\n",
       "      <td>57590</td>\n",
       "      <td>2150</td>\n",
       "    </tr>\n",
       "    <tr>\n",
       "      <th>7</th>\n",
       "      <td>Ⅳ</td>\n",
       "      <td>20574737</td>\n",
       "      <td>26.05</td>\n",
       "      <td>8.5</td>\n",
       "      <td>1332940</td>\n",
       "      <td>51108</td>\n",
       "      <td>64771</td>\n",
       "      <td>2484</td>\n",
       "      <td>1371503</td>\n",
       "      <td>52585</td>\n",
       "      <td>66645</td>\n",
       "      <td>2555</td>\n",
       "      <td>1249652</td>\n",
       "      <td>47909</td>\n",
       "      <td>60724</td>\n",
       "      <td>2329</td>\n",
       "    </tr>\n",
       "  </tbody>\n",
       "</table>\n",
       "</div>"
      ],
      "text/plain": [
       "0  NaN    期中\\n人口   平均匯率 經濟\\n成長 名目國內生產\\n毛額(GDP)     美元1 平均每人\\nGDP   美元2  \\\n",
       "3  80年  20503568  26.82   8.36         5023763  187314    245019  9136   \n",
       "4    Ⅰ  20425383  27.19   7.03         1193397   43838     58414  2146   \n",
       "5    Ⅱ  20470490  27.26   8.63         1237128   45329     60422  2214   \n",
       "6    Ⅲ  20517601  26.76   9.18         1260298   47039     61412  2292   \n",
       "7    Ⅳ  20574737  26.05    8.5         1332940   51108     64771  2484   \n",
       "\n",
       "0 名目國民所得\\n毛額(GNI)     美元3 平均每人\\nGNI   美元4 名目國民所得\\n(NI)     美元5 平均每人\\n所　得   美元6  \n",
       "3         5159313  192368    251630  9382      4686035  174722    228547  8522  \n",
       "4         1231282   45229     60269  2214      1130436   41522     55333  2032  \n",
       "5         1262851   46269     61678  2260      1124074   41182     54900  2011  \n",
       "6         1293677   48285     63038  2353      1181873   44109     57590  2150  \n",
       "7         1371503   52585     66645  2555      1249652   47909     60724  2329  "
      ]
     },
     "execution_count": 33,
     "metadata": {},
     "output_type": "execute_result"
    }
   ],
   "source": [
    "df.head()"
   ]
  },
  {
   "cell_type": "markdown",
   "metadata": {},
   "source": [
    "# 將美元的部分砍掉"
   ]
  },
  {
   "cell_type": "code",
   "execution_count": 38,
   "metadata": {},
   "outputs": [
    {
     "data": {
      "text/html": [
       "<div>\n",
       "<style scoped>\n",
       "    .dataframe tbody tr th:only-of-type {\n",
       "        vertical-align: middle;\n",
       "    }\n",
       "\n",
       "    .dataframe tbody tr th {\n",
       "        vertical-align: top;\n",
       "    }\n",
       "\n",
       "    .dataframe thead th {\n",
       "        text-align: right;\n",
       "    }\n",
       "</style>\n",
       "<table border=\"1\" class=\"dataframe\">\n",
       "  <thead>\n",
       "    <tr style=\"text-align: right;\">\n",
       "      <th></th>\n",
       "      <th>nan</th>\n",
       "      <th>期中\n",
       "人口</th>\n",
       "      <th>平均匯率</th>\n",
       "      <th>經濟\n",
       "成長</th>\n",
       "      <th>名目國內生產\n",
       "毛額(GDP)</th>\n",
       "      <th>平均每人\n",
       "GDP</th>\n",
       "      <th>名目國民所得\n",
       "毛額(GNI)</th>\n",
       "      <th>美元3</th>\n",
       "      <th>平均每人\n",
       "GNI</th>\n",
       "      <th>美元4</th>\n",
       "      <th>名目國民所得\n",
       "(NI)</th>\n",
       "      <th>美元5</th>\n",
       "      <th>平均每人\n",
       "所　得</th>\n",
       "      <th>美元6</th>\n",
       "    </tr>\n",
       "  </thead>\n",
       "  <tbody>\n",
       "    <tr>\n",
       "      <th>3</th>\n",
       "      <td>80年</td>\n",
       "      <td>20503568</td>\n",
       "      <td>26.82</td>\n",
       "      <td>8.36</td>\n",
       "      <td>5023763</td>\n",
       "      <td>245019</td>\n",
       "      <td>5159313</td>\n",
       "      <td>192368</td>\n",
       "      <td>251630</td>\n",
       "      <td>9382</td>\n",
       "      <td>4686035</td>\n",
       "      <td>174722</td>\n",
       "      <td>228547</td>\n",
       "      <td>8522</td>\n",
       "    </tr>\n",
       "    <tr>\n",
       "      <th>4</th>\n",
       "      <td>Ⅰ</td>\n",
       "      <td>20425383</td>\n",
       "      <td>27.19</td>\n",
       "      <td>7.03</td>\n",
       "      <td>1193397</td>\n",
       "      <td>58414</td>\n",
       "      <td>1231282</td>\n",
       "      <td>45229</td>\n",
       "      <td>60269</td>\n",
       "      <td>2214</td>\n",
       "      <td>1130436</td>\n",
       "      <td>41522</td>\n",
       "      <td>55333</td>\n",
       "      <td>2032</td>\n",
       "    </tr>\n",
       "    <tr>\n",
       "      <th>5</th>\n",
       "      <td>Ⅱ</td>\n",
       "      <td>20470490</td>\n",
       "      <td>27.26</td>\n",
       "      <td>8.63</td>\n",
       "      <td>1237128</td>\n",
       "      <td>60422</td>\n",
       "      <td>1262851</td>\n",
       "      <td>46269</td>\n",
       "      <td>61678</td>\n",
       "      <td>2260</td>\n",
       "      <td>1124074</td>\n",
       "      <td>41182</td>\n",
       "      <td>54900</td>\n",
       "      <td>2011</td>\n",
       "    </tr>\n",
       "    <tr>\n",
       "      <th>6</th>\n",
       "      <td>Ⅲ</td>\n",
       "      <td>20517601</td>\n",
       "      <td>26.76</td>\n",
       "      <td>9.18</td>\n",
       "      <td>1260298</td>\n",
       "      <td>61412</td>\n",
       "      <td>1293677</td>\n",
       "      <td>48285</td>\n",
       "      <td>63038</td>\n",
       "      <td>2353</td>\n",
       "      <td>1181873</td>\n",
       "      <td>44109</td>\n",
       "      <td>57590</td>\n",
       "      <td>2150</td>\n",
       "    </tr>\n",
       "    <tr>\n",
       "      <th>7</th>\n",
       "      <td>Ⅳ</td>\n",
       "      <td>20574737</td>\n",
       "      <td>26.05</td>\n",
       "      <td>8.5</td>\n",
       "      <td>1332940</td>\n",
       "      <td>64771</td>\n",
       "      <td>1371503</td>\n",
       "      <td>52585</td>\n",
       "      <td>66645</td>\n",
       "      <td>2555</td>\n",
       "      <td>1249652</td>\n",
       "      <td>47909</td>\n",
       "      <td>60724</td>\n",
       "      <td>2329</td>\n",
       "    </tr>\n",
       "  </tbody>\n",
       "</table>\n",
       "</div>"
      ],
      "text/plain": [
       "0  NaN    期中\\n人口   平均匯率 經濟\\n成長 名目國內生產\\n毛額(GDP) 平均每人\\nGDP 名目國民所得\\n毛額(GNI)  \\\n",
       "3  80年  20503568  26.82   8.36         5023763    245019         5159313   \n",
       "4    Ⅰ  20425383  27.19   7.03         1193397     58414         1231282   \n",
       "5    Ⅱ  20470490  27.26   8.63         1237128     60422         1262851   \n",
       "6    Ⅲ  20517601  26.76   9.18         1260298     61412         1293677   \n",
       "7    Ⅳ  20574737  26.05    8.5         1332940     64771         1371503   \n",
       "\n",
       "0     美元3 平均每人\\nGNI   美元4 名目國民所得\\n(NI)     美元5 平均每人\\n所　得   美元6  \n",
       "3  192368    251630  9382      4686035  174722    228547  8522  \n",
       "4   45229     60269  2214      1130436   41522     55333  2032  \n",
       "5   46269     61678  2260      1124074   41182     54900  2011  \n",
       "6   48285     63038  2353      1181873   44109     57590  2150  \n",
       "7   52585     66645  2555      1249652   47909     60724  2329  "
      ]
     },
     "execution_count": 38,
     "metadata": {},
     "output_type": "execute_result"
    }
   ],
   "source": [
    "df.drop(\"美元1\",axis = 1,inplace=True)\n",
    "df.drop(\"美元2\",axis = 1,inplace=True)\n",
    "df.head()"
   ]
  },
  {
   "cell_type": "code",
   "execution_count": 39,
   "metadata": {},
   "outputs": [
    {
     "data": {
      "text/html": [
       "<div>\n",
       "<style scoped>\n",
       "    .dataframe tbody tr th:only-of-type {\n",
       "        vertical-align: middle;\n",
       "    }\n",
       "\n",
       "    .dataframe tbody tr th {\n",
       "        vertical-align: top;\n",
       "    }\n",
       "\n",
       "    .dataframe thead th {\n",
       "        text-align: right;\n",
       "    }\n",
       "</style>\n",
       "<table border=\"1\" class=\"dataframe\">\n",
       "  <thead>\n",
       "    <tr style=\"text-align: right;\">\n",
       "      <th></th>\n",
       "      <th>nan</th>\n",
       "      <th>期中\n",
       "人口</th>\n",
       "      <th>平均匯率</th>\n",
       "      <th>經濟\n",
       "成長</th>\n",
       "      <th>名目國內生產\n",
       "毛額(GDP)</th>\n",
       "      <th>平均每人\n",
       "GDP</th>\n",
       "      <th>名目國民所得\n",
       "毛額(GNI)</th>\n",
       "      <th>平均每人\n",
       "GNI</th>\n",
       "      <th>名目國民所得\n",
       "(NI)</th>\n",
       "      <th>平均每人\n",
       "所　得</th>\n",
       "    </tr>\n",
       "  </thead>\n",
       "  <tbody>\n",
       "    <tr>\n",
       "      <th>3</th>\n",
       "      <td>80年</td>\n",
       "      <td>20503568</td>\n",
       "      <td>26.82</td>\n",
       "      <td>8.36</td>\n",
       "      <td>5023763</td>\n",
       "      <td>245019</td>\n",
       "      <td>5159313</td>\n",
       "      <td>251630</td>\n",
       "      <td>4686035</td>\n",
       "      <td>228547</td>\n",
       "    </tr>\n",
       "    <tr>\n",
       "      <th>4</th>\n",
       "      <td>Ⅰ</td>\n",
       "      <td>20425383</td>\n",
       "      <td>27.19</td>\n",
       "      <td>7.03</td>\n",
       "      <td>1193397</td>\n",
       "      <td>58414</td>\n",
       "      <td>1231282</td>\n",
       "      <td>60269</td>\n",
       "      <td>1130436</td>\n",
       "      <td>55333</td>\n",
       "    </tr>\n",
       "    <tr>\n",
       "      <th>5</th>\n",
       "      <td>Ⅱ</td>\n",
       "      <td>20470490</td>\n",
       "      <td>27.26</td>\n",
       "      <td>8.63</td>\n",
       "      <td>1237128</td>\n",
       "      <td>60422</td>\n",
       "      <td>1262851</td>\n",
       "      <td>61678</td>\n",
       "      <td>1124074</td>\n",
       "      <td>54900</td>\n",
       "    </tr>\n",
       "    <tr>\n",
       "      <th>6</th>\n",
       "      <td>Ⅲ</td>\n",
       "      <td>20517601</td>\n",
       "      <td>26.76</td>\n",
       "      <td>9.18</td>\n",
       "      <td>1260298</td>\n",
       "      <td>61412</td>\n",
       "      <td>1293677</td>\n",
       "      <td>63038</td>\n",
       "      <td>1181873</td>\n",
       "      <td>57590</td>\n",
       "    </tr>\n",
       "    <tr>\n",
       "      <th>7</th>\n",
       "      <td>Ⅳ</td>\n",
       "      <td>20574737</td>\n",
       "      <td>26.05</td>\n",
       "      <td>8.5</td>\n",
       "      <td>1332940</td>\n",
       "      <td>64771</td>\n",
       "      <td>1371503</td>\n",
       "      <td>66645</td>\n",
       "      <td>1249652</td>\n",
       "      <td>60724</td>\n",
       "    </tr>\n",
       "  </tbody>\n",
       "</table>\n",
       "</div>"
      ],
      "text/plain": [
       "0  NaN    期中\\n人口   平均匯率 經濟\\n成長 名目國內生產\\n毛額(GDP) 平均每人\\nGDP 名目國民所得\\n毛額(GNI)  \\\n",
       "3  80年  20503568  26.82   8.36         5023763    245019         5159313   \n",
       "4    Ⅰ  20425383  27.19   7.03         1193397     58414         1231282   \n",
       "5    Ⅱ  20470490  27.26   8.63         1237128     60422         1262851   \n",
       "6    Ⅲ  20517601  26.76   9.18         1260298     61412         1293677   \n",
       "7    Ⅳ  20574737  26.05    8.5         1332940     64771         1371503   \n",
       "\n",
       "0 平均每人\\nGNI 名目國民所得\\n(NI) 平均每人\\n所　得  \n",
       "3    251630      4686035    228547  \n",
       "4     60269      1130436     55333  \n",
       "5     61678      1124074     54900  \n",
       "6     63038      1181873     57590  \n",
       "7     66645      1249652     60724  "
      ]
     },
     "execution_count": 39,
     "metadata": {},
     "output_type": "execute_result"
    }
   ],
   "source": [
    "df.drop(\"美元3\",axis = 1,inplace=True)\n",
    "df.drop(\"美元4\",axis = 1,inplace=True)\n",
    "df.drop(\"美元5\",axis = 1,inplace=True)\n",
    "df.drop(\"美元6\",axis = 1,inplace=True)\n",
    "df.head()"
   ]
  },
  {
   "cell_type": "code",
   "execution_count": 42,
   "metadata": {},
   "outputs": [
    {
     "data": {
      "text/plain": [
       "Index([              nan,          '期中\\n人口',            '平均匯率',\n",
       "                '經濟\\n成長', '名目國內生產\\n毛額(GDP)',       '平均每人\\nGDP',\n",
       "       '名目國民所得\\n毛額(GNI)',       '平均每人\\nGNI',    '名目國民所得\\n(NI)',\n",
       "             '平均每人\\n所　得'],\n",
       "      dtype='object', name=0)"
      ]
     },
     "execution_count": 42,
     "metadata": {},
     "output_type": "execute_result"
    }
   ],
   "source": [
    "df.columns"
   ]
  },
  {
   "cell_type": "code",
   "execution_count": 56,
   "metadata": {},
   "outputs": [
    {
     "data": {
      "text/plain": [
       "3      20503568\n",
       "4      20425383\n",
       "5      20470490\n",
       "6      20517601\n",
       "7      20574737\n",
       "8      20704227\n",
       "9      20623560\n",
       "10     20663315\n",
       "11     20713865\n",
       "12     20772506\n",
       "13     20899019\n",
       "14     20818583\n",
       "15     20854182\n",
       "16     20902963\n",
       "17     20963761\n",
       "18     21086645\n",
       "19     21013346\n",
       "20     21054279\n",
       "21     21103486\n",
       "22     21153782\n",
       "23     21267653\n",
       "24     21194599\n",
       "25     21234681\n",
       "26     21284962\n",
       "27     21334658\n",
       "28     21441432\n",
       "29     21372055\n",
       "30     21405379\n",
       "31     21446975\n",
       "32     21497652\n",
       "         ...   \n",
       "120    23385815\n",
       "121    23401158\n",
       "122    23422017\n",
       "123    23462914\n",
       "124    23441520\n",
       "125    23455425\n",
       "126    23465155\n",
       "127    23480411\n",
       "128    23515945\n",
       "129    23494444\n",
       "130    23502588\n",
       "131    23513940\n",
       "132    23529667\n",
       "133    23555522\n",
       "134    23542748\n",
       "135    23549075\n",
       "136    23554969\n",
       "137    23564347\n",
       "138    23580080\n",
       "139    23571609\n",
       "140    23573132\n",
       "141    23575881\n",
       "142    23583210\n",
       "143    23592659\n",
       "144    23582216\n",
       "145    23587292\n",
       "146    23595538\n",
       "147    23605589\n",
       "148         NaN\n",
       "149         NaN\n",
       "Name: 期中\\n人口, Length: 147, dtype: object"
      ]
     },
     "execution_count": 56,
     "metadata": {},
     "output_type": "execute_result"
    }
   ],
   "source": [
    "df[\"期中\\n人口\"]"
   ]
  },
  {
   "cell_type": "code",
   "execution_count": 59,
   "metadata": {},
   "outputs": [
    {
     "data": {
      "text/plain": [
       "<matplotlib.collections.PathCollection at 0x236bbfb4c50>"
      ]
     },
     "execution_count": 59,
     "metadata": {},
     "output_type": "execute_result"
    },
    {
     "data": {
      "image/png": "[encoded data removed]",
      "text/plain": [
       "<Figure size 432x288 with 1 Axes>"
      ]
     },
     "metadata": {
      "needs_background": "light"
     },
     "output_type": "display_data"
    }
   ],
   "source": [
    "plt.scatter(df[\"經濟\\n成長\"],df[\"平均匯率\"])"
   ]
  },
  {
   "cell_type": "code",
   "execution_count": 62,
   "metadata": {},
   "outputs": [],
   "source": [
    "from sklearn.linear_model import LinearRegression\n",
    "from sklearn.model_selection import train_test_split"
   ]
  },
  {
   "cell_type": "code",
   "execution_count": 85,
   "metadata": {},
   "outputs": [],
   "source": [
    "regr = LinearRegression()"
   ]
  },
  {
   "cell_type": "code",
   "execution_count": 89,
   "metadata": {},
   "outputs": [],
   "source": [
    "df.drop(148,inplace=True)\n",
    "df.drop(149,inplace=True)"
   ]
  },
  {
   "cell_type": "code",
   "execution_count": 90,
   "metadata": {},
   "outputs": [
    {
     "data": {
      "text/plain": [
       "3      False\n",
       "4      False\n",
       "5      False\n",
       "6      False\n",
       "7      False\n",
       "8      False\n",
       "9      False\n",
       "10     False\n",
       "11     False\n",
       "12     False\n",
       "13     False\n",
       "14     False\n",
       "15     False\n",
       "16     False\n",
       "17     False\n",
       "18     False\n",
       "19     False\n",
       "20     False\n",
       "21     False\n",
       "22     False\n",
       "23     False\n",
       "24     False\n",
       "25     False\n",
       "26     False\n",
       "27     False\n",
       "28     False\n",
       "29     False\n",
       "30     False\n",
       "31     False\n",
       "32     False\n",
       "       ...  \n",
       "118    False\n",
       "119    False\n",
       "120    False\n",
       "121    False\n",
       "122    False\n",
       "123    False\n",
       "124    False\n",
       "125    False\n",
       "126    False\n",
       "127    False\n",
       "128    False\n",
       "129    False\n",
       "130    False\n",
       "131    False\n",
       "132    False\n",
       "133    False\n",
       "134    False\n",
       "135    False\n",
       "136    False\n",
       "137    False\n",
       "138    False\n",
       "139    False\n",
       "140    False\n",
       "141    False\n",
       "142    False\n",
       "143    False\n",
       "144    False\n",
       "145    False\n",
       "146    False\n",
       "147    False\n",
       "Name: 平均匯率, Length: 145, dtype: bool"
      ]
     },
     "execution_count": 90,
     "metadata": {},
     "output_type": "execute_result"
    }
   ],
   "source": [
    "df.平均匯率.isnull()"
   ]
  },
  {
   "cell_type": "code",
   "execution_count": 91,
   "metadata": {},
   "outputs": [],
   "source": [
    "x = np.array(df[\"經濟\\n成長\"])\n",
    "y = np.array(df[\"平均匯率\"])"
   ]
  },
  {
   "cell_type": "code",
   "execution_count": 92,
   "metadata": {},
   "outputs": [],
   "source": [
    "X = x.reshape(len(x),1)\n",
    "Y = y.reshape(len(y),1)"
   ]
  },
  {
   "cell_type": "code",
   "execution_count": 130,
   "metadata": {},
   "outputs": [],
   "source": [
    "x_train,x_test,y_train,y_test = train_test_split(X,Y,test_size=0.2,random_state = 1)"
   ]
  },
  {
   "cell_type": "code",
   "execution_count": 131,
   "metadata": {},
   "outputs": [
    {
     "data": {
      "text/plain": [
       "<matplotlib.collections.PathCollection at 0x236c0a1f898>"
      ]
     },
     "execution_count": 131,
     "metadata": {},
     "output_type": "execute_result"
    },
    {
     "data": {
      "image/png": "[encoded data removed]",
      "text/plain": [
       "<Figure size 432x288 with 1 Axes>"
      ]
     },
     "metadata": {
      "needs_background": "light"
     },
     "output_type": "display_data"
    }
   ],
   "source": [
    "plt.scatter(x_train,y_train)"
   ]
  },
  {
   "cell_type": "code",
   "execution_count": 132,
   "metadata": {},
   "outputs": [
    {
     "data": {
      "text/plain": [
       "LinearRegression(copy_X=True, fit_intercept=True, n_jobs=None,\n",
       "         normalize=False)"
      ]
     },
     "execution_count": 132,
     "metadata": {},
     "output_type": "execute_result"
    }
   ],
   "source": [
    "regr.fit(x_train,y_train)"
   ]
  },
  {
   "cell_type": "code",
   "execution_count": 133,
   "metadata": {},
   "outputs": [],
   "source": [
    "Y_pred = regr.predict(x_test)"
   ]
  },
  {
   "cell_type": "code",
   "execution_count": 134,
   "metadata": {},
   "outputs": [
    {
     "data": {
      "text/plain": [
       "array([[29.98422314],\n",
       "       [30.0574296 ],\n",
       "       [30.20091425],\n",
       "       [31.05010914],\n",
       "       [33.07353557],\n",
       "       [29.5244866 ],\n",
       "       [29.95494056],\n",
       "       [31.82902583],\n",
       "       [30.71921596],\n",
       "       [34.25948016],\n",
       "       [29.79974288],\n",
       "       [29.73239294],\n",
       "       [30.18041644],\n",
       "       [30.34732716],\n",
       "       [29.77046029],\n",
       "       [31.71482376],\n",
       "       [30.29461852],\n",
       "       [29.91980146],\n",
       "       [30.12185128],\n",
       "       [32.02229087],\n",
       "       [31.59476517],\n",
       "       [34.19213022],\n",
       "       [29.26679988],\n",
       "       [29.82902546],\n",
       "       [28.5288788 ],\n",
       "       [31.25508721],\n",
       "       [32.1394212 ],\n",
       "       [30.82756151],\n",
       "       [29.30486723]])"
      ]
     },
     "execution_count": 134,
     "metadata": {},
     "output_type": "execute_result"
    }
   ],
   "source": [
    "Y_pred"
   ]
  },
  {
   "cell_type": "code",
   "execution_count": 135,
   "metadata": {},
   "outputs": [
    {
     "data": {
      "text/plain": [
       "array([[32.27],\n",
       "       [33.41],\n",
       "       [26.44],\n",
       "       [30.44],\n",
       "       [34.66],\n",
       "       [25.16],\n",
       "       [26.84],\n",
       "       [29.66],\n",
       "       [33.46],\n",
       "       [33.98],\n",
       "       [31.07],\n",
       "       [33.46],\n",
       "       [32.18],\n",
       "       [32.32],\n",
       "       [31.7],\n",
       "       [31.91],\n",
       "       [27.51],\n",
       "       [27.5],\n",
       "       [28.43],\n",
       "       [34.58],\n",
       "       [32.44],\n",
       "       [32.98],\n",
       "       [26.23],\n",
       "       [32.71],\n",
       "       [31.97],\n",
       "       [30.68],\n",
       "       [32.21],\n",
       "       [30.36],\n",
       "       [32.32]], dtype=object)"
      ]
     },
     "execution_count": 135,
     "metadata": {},
     "output_type": "execute_result"
    }
   ],
   "source": [
    "y_test"
   ]
  },
  {
   "cell_type": "code",
   "execution_count": 137,
   "metadata": {},
   "outputs": [
    {
     "data": {
      "text/plain": [
       "29"
      ]
     },
     "execution_count": 137,
     "metadata": {},
     "output_type": "execute_result"
    }
   ],
   "source": [
    "len(y_test)"
   ]
  },
  {
   "cell_type": "markdown",
   "metadata": {},
   "source": [
    "# 用圖來看預測值跟實際值差異"
   ]
  },
  {
   "cell_type": "code",
   "execution_count": 145,
   "metadata": {},
   "outputs": [
    {
     "data": {
      "text/plain": [
       "<matplotlib.collections.PathCollection at 0x236c0b72da0>"
      ]
     },
     "execution_count": 145,
     "metadata": {},
     "output_type": "execute_result"
    },
    {
     "data": {
      "image/png": "[encoded data removed]",
      "text/plain": [
       "<Figure size 432x288 with 1 Axes>"
      ]
     },
     "metadata": {
      "needs_background": "light"
     },
     "output_type": "display_data"
    }
   ],
   "source": [
    "plt.scatter(x[int(len(x)*4/5):],y_test)\n",
    "plt.scatter(x[int(len(x)*4/5):],Y_pred)"
   ]
  },
  {
   "cell_type": "markdown",
   "metadata": {},
   "source": [
    "# 算出相關係數R^2"
   ]
  },
  {
   "cell_type": "code",
   "execution_count": 100,
   "metadata": {},
   "outputs": [
    {
     "data": {
      "text/plain": [
       "0.19447576377427556"
      ]
     },
     "execution_count": 100,
     "metadata": {},
     "output_type": "execute_result"
    }
   ],
   "source": [
    "regr.score(x_test,y_test)"
   ]
  },
  {
   "cell_type": "markdown",
   "metadata": {},
   "source": [
    "# 算預測跟實際的標準差"
   ]
  },
  {
   "cell_type": "code",
   "execution_count": 147,
   "metadata": {},
   "outputs": [
    {
     "data": {
      "text/plain": [
       "2.378277650640951"
      ]
     },
     "execution_count": 147,
     "metadata": {},
     "output_type": "execute_result"
    }
   ],
   "source": [
    "np.std(Y_pred - y_test)"
   ]
  },
  {
   "cell_type": "code",
   "execution_count": null,
   "metadata": {},
   "outputs": [],
   "source": []
  }
 ],
 "metadata": {
  "kernelspec": {
   "display_name": "Python 3",
   "language": "python",
   "name": "python3"
  },
  "language_info": {
   "codemirror_mode": {
    "name": "ipython",
    "version": 3
   },
   "file_extension": ".py",
   "mimetype": "text/x-python",
   "name": "python",
   "nbconvert_exporter": "python",
   "pygments_lexer": "ipython3",
   "version": "3.6.8"
  }
 },
 "nbformat": 4,
 "nbformat_minor": 2
}
