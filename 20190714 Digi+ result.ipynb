{
 "cells": [
  {
   "cell_type": "markdown",
   "metadata": {},
   "source": [
    "# 單頁 全部顯示"
   ]
  },
  {
   "cell_type": "code",
   "execution_count": 6,
   "metadata": {},
   "outputs": [],
   "source": [
    "url=\"http://training.tabc.org.tw/files/901-1000-6,c0-1.php\" # c0-1 就是第一頁\n",
    "\n",
    "import requests as rq\n",
    "from bs4 import BeautifulSoup\n",
    "from selenium import webdriver\n",
    "\n",
    "browser = webdriver.Chrome()\n",
    "browser.get(url)\n",
    "soup = BeautifulSoup(browser.page_source, 'lxml')\n",
    "\n",
    "class_name = []\n",
    "class_state =[]\n",
    "class_url = []\n",
    "\n",
    "grades = soup.find_all('a')\n",
    "for grade in grades:\n",
    "    if '<a class=\"otabc_link' in str(grade):\n",
    "        #print(grade.get_text())\n",
    "        class_name.append(grade.get_text())\n",
    "        #print(i)\n",
    "grades = soup.find_all('font')\n",
    "for grade in grades:\n",
    "    if '<font' in str(grade):\n",
    "        #print(grade.get_text())\n",
    "        class_state.append(grade.get_text())\n",
    "grades = soup.find_all('a')\n",
    "for grade in grades:\n",
    "    if 'a class=\"otabc_link\"' in str(grade):\n",
    "        #print(grade)\n",
    "        #print(grade.attrs[\"href\"])\n",
    "        class_url.append(grade.attrs[\"href\"])\n",
    "                         \n",
    "browser.quit()"
   ]
  },
  {
   "cell_type": "code",
   "execution_count": 11,
   "metadata": {},
   "outputs": [
    {
     "name": "stdout",
     "output_type": "stream",
     "text": [
      "1.  2019綠建築教育示範基地參訪活動-8月9日高雄國家體育場世運主場館(請準時集合，逾時不候) http://training.tabc.org.tw/files/902-1000-855.php 報名中(免費)\n",
      "2.  2019綠建築教育示範基地參訪活動-8月16日華南銀行總行世貿大樓(請準時集合，逾時不候) http://training.tabc.org.tw/files/902-1000-854.php 報名已額滿(免費)\n",
      "3.  廣域智慧能源管理平台應用推廣計畫-技術推廣講習會 http://training.tabc.org.tw/files/902-1000-853.php 報名中(免費)\n",
      "4.  2019前瞻防火安全科技研討會-9/26報名網址: https://reurl.cc/lW236 (9/25及9/26場次，分開報名) http://training.tabc.org.tw/files/902-1000-852.php 報名已截止(免費)\n",
      "5.  108年度臺北市公共建築物無障礙設施勘檢實務講習 http://training.tabc.org.tw/files/902-1000-851.php 報名已截止(免費)\n",
      "6.  住宿式長照服務機構防火安全暨健檢講習會(高雄場) http://training.tabc.org.tw/files/902-1000-850.php 報名已額滿(免費)\n",
      "7.  2019綠建築推廣講習會-北部場(7/19) http://training.tabc.org.tw/files/902-1000-849.php 報名已額滿(免費)\n",
      "8.  2019綠建築推廣講習會-南部場(7/5) http://training.tabc.org.tw/files/902-1000-848.php 報名已截止(免費)\n",
      "9.  住宿式長照服務機構防火安全暨健檢講習會(台北場) http://training.tabc.org.tw/files/902-1000-846.php 報名已額滿(免費)\n",
      "10.  建築節能與綠廳舍改善計畫 空調主機盤點作業說明會(花蓮場) http://training.tabc.org.tw/files/902-1000-845.php 報名已截止(免費)\n",
      "11.  建築節能與綠廳舍改善計畫 空調主機盤點作業說明會(高雄場) http://training.tabc.org.tw/files/902-1000-844.php 報名已額滿(免費)\n",
      "12.  建築節能與綠廳舍改善計畫 空調主機盤點作業說明會(台中場)-報名截止時間至下午五點止 http://training.tabc.org.tw/files/902-1000-843.php 報名已額滿(免費)\n",
      "13.  建築節能與綠廳舍改善計畫 空調主機盤點作業說明會(台北場) http://training.tabc.org.tw/files/902-1000-842.php 報名已截止(免費)\n",
      "14.  108年度智慧化居住環境科技應用座談會<節能管理> http://training.tabc.org.tw/files/902-1000-841.php 報名已額滿(免費)\n",
      "15.  108年度智慧化居住環境科技應用座談會<安全監控> http://training.tabc.org.tw/files/902-1000-840.php 報名已額滿(免費)\n",
      "16.  108年度智慧化居住環境科技應用座談會<健康照護> http://training.tabc.org.tw/files/902-1000-839.php 報名已額滿(免費)\n",
      "17.  108年度智慧化居住環境科技應用座談會<系統整合> http://training.tabc.org.tw/files/902-1000-838.php 報名已額滿(免費)\n",
      "18.  108年度智慧綠建築與永續智慧社區系列講習- 「智慧建築標章推廣課程」<臺中場> http://training.tabc.org.tw/files/902-1000-836.php 報名已截止(免費)\n",
      "19.  108年度智慧綠建築與永續智慧社區系列講習- 「智慧建築標章推廣課程」<臺北場> http://training.tabc.org.tw/files/902-1000-835.php 報名已截止(免費)\n",
      "20.  108年度智慧綠建築與永續智慧社區系列講習- 「智慧建築標章推廣課程」<高雄場> http://training.tabc.org.tw/files/902-1000-833.php 報名已截止(免費)\n"
     ]
    }
   ],
   "source": [
    "j = 1\n",
    "for i in range(0,len(class_name)):\n",
    "    print(str(j)+\". \",class_name[i],class_url[i],class_state[i])\n",
    "    j+=1"
   ]
  },
  {
   "cell_type": "markdown",
   "metadata": {},
   "source": [
    "# 單頁 只顯示可報名"
   ]
  },
  {
   "cell_type": "code",
   "execution_count": 18,
   "metadata": {},
   "outputs": [
    {
     "name": "stdout",
     "output_type": "stream",
     "text": [
      "1.  2019綠建築教育示範基地參訪活動-8月9日高雄國家體育場世運主場館(請準時集合，逾時不候) http://training.tabc.org.tw/files/902-1000-855.php 報名中(免費)\n",
      "3.  廣域智慧能源管理平台應用推廣計畫-技術推廣講習會 http://training.tabc.org.tw/files/902-1000-853.php 報名中(免費)\n"
     ]
    }
   ],
   "source": [
    "j = 1\n",
    "for i in range(0,len(class_name)):\n",
    "    try:\n",
    "        class_state[i].index(\"報名中\")\n",
    "    except:\n",
    "        print(\"\",end='')\n",
    "    else:\n",
    "        print(str(j)+\". \",class_name[i],class_url[i],class_state[i])\n",
    "        #print(class_state[i].index(\"報名中\"))\n",
    "    j+=1"
   ]
  },
  {
   "cell_type": "markdown",
   "metadata": {},
   "source": [
    "# 爬蟲 1~5頁"
   ]
  },
  {
   "cell_type": "code",
   "execution_count": 24,
   "metadata": {},
   "outputs": [],
   "source": [
    "class_name = []\n",
    "class_state =[]\n",
    "class_url = []\n",
    "for page in range(1,6):\n",
    "    url = \"http://training.tabc.org.tw/files/901-1000-6,c0-\"+str(page)+\".php\"\n",
    "    browser = webdriver.Chrome()\n",
    "    browser.get(url)\n",
    "    soup = BeautifulSoup(browser.page_source, 'lxml')\n",
    "\n",
    "    grades = soup.find_all('a')\n",
    "    for grade in grades:\n",
    "        if '<a class=\"otabc_link' in str(grade):\n",
    "            #print(grade.get_text())\n",
    "            class_name.append(grade.get_text())\n",
    "            #print(i)\n",
    "    grades = soup.find_all('font')\n",
    "    for grade in grades:\n",
    "        if '<font' in str(grade):\n",
    "            #print(grade.get_text())\n",
    "            class_state.append(grade.get_text())\n",
    "    grades = soup.find_all('a')\n",
    "    for grade in grades:\n",
    "        if 'a class=\"otabc_link\"' in str(grade):\n",
    "            #print(grade)\n",
    "            #print(grade.attrs[\"href\"])\n",
    "            class_url.append(grade.attrs[\"href\"])\n",
    "\n",
    "    browser.quit()"
   ]
  },
  {
   "cell_type": "code",
   "execution_count": 25,
   "metadata": {},
   "outputs": [
    {
     "name": "stdout",
     "output_type": "stream",
     "text": [
      "1.  2019綠建築教育示範基地參訪活動-8月9日高雄國家體育場世運主場館(請準時集合，逾時不候) http://training.tabc.org.tw/files/902-1000-855.php 報名中(免費)\n",
      "2.  2019綠建築教育示範基地參訪活動-8月16日華南銀行總行世貿大樓(請準時集合，逾時不候) http://training.tabc.org.tw/files/902-1000-854.php 報名已額滿(免費)\n",
      "3.  廣域智慧能源管理平台應用推廣計畫-技術推廣講習會 http://training.tabc.org.tw/files/902-1000-853.php 報名中(免費)\n",
      "4.  2019前瞻防火安全科技研討會-9/26報名網址: https://reurl.cc/lW236 (9/25及9/26場次，分開報名) http://training.tabc.org.tw/files/902-1000-852.php 報名已截止(免費)\n",
      "5.  108年度臺北市公共建築物無障礙設施勘檢實務講習 http://training.tabc.org.tw/files/902-1000-851.php 報名已截止(免費)\n",
      "6.  住宿式長照服務機構防火安全暨健檢講習會(高雄場) http://training.tabc.org.tw/files/902-1000-850.php 報名已額滿(免費)\n",
      "7.  2019綠建築推廣講習會-北部場(7/19) http://training.tabc.org.tw/files/902-1000-849.php 報名已額滿(免費)\n",
      "8.  2019綠建築推廣講習會-南部場(7/5) http://training.tabc.org.tw/files/902-1000-848.php 報名已截止(免費)\n",
      "9.  住宿式長照服務機構防火安全暨健檢講習會(台北場) http://training.tabc.org.tw/files/902-1000-846.php 報名已額滿(免費)\n",
      "10.  建築節能與綠廳舍改善計畫 空調主機盤點作業說明會(花蓮場) http://training.tabc.org.tw/files/902-1000-845.php 報名已截止(免費)\n",
      "11.  建築節能與綠廳舍改善計畫 空調主機盤點作業說明會(高雄場) http://training.tabc.org.tw/files/902-1000-844.php 報名已額滿(免費)\n",
      "12.  建築節能與綠廳舍改善計畫 空調主機盤點作業說明會(台中場)-報名截止時間至下午五點止 http://training.tabc.org.tw/files/902-1000-843.php 報名已額滿(免費)\n",
      "13.  建築節能與綠廳舍改善計畫 空調主機盤點作業說明會(台北場) http://training.tabc.org.tw/files/902-1000-842.php 報名已截止(免費)\n",
      "14.  108年度智慧化居住環境科技應用座談會<節能管理> http://training.tabc.org.tw/files/902-1000-841.php 報名已額滿(免費)\n",
      "15.  108年度智慧化居住環境科技應用座談會<安全監控> http://training.tabc.org.tw/files/902-1000-840.php 報名已額滿(免費)\n",
      "16.  108年度智慧化居住環境科技應用座談會<健康照護> http://training.tabc.org.tw/files/902-1000-839.php 報名已額滿(免費)\n",
      "17.  108年度智慧化居住環境科技應用座談會<系統整合> http://training.tabc.org.tw/files/902-1000-838.php 報名已額滿(免費)\n",
      "18.  108年度智慧綠建築與永續智慧社區系列講習- 「智慧建築標章推廣課程」<臺中場> http://training.tabc.org.tw/files/902-1000-836.php 報名已截止(免費)\n",
      "19.  108年度智慧綠建築與永續智慧社區系列講習- 「智慧建築標章推廣課程」<臺北場> http://training.tabc.org.tw/files/902-1000-835.php 報名已截止(免費)\n",
      "20.  108年度智慧綠建築與永續智慧社區系列講習- 「智慧建築標章推廣課程」<高雄場> http://training.tabc.org.tw/files/902-1000-833.php 報名已截止(免費)\n",
      "21.  2019前瞻防火安全科技研討會-9/25報名網址: https://reurl.cc/elnWK (9/25及9/26場次，分開報名) http://training.tabc.org.tw/files/902-1000-832.php 報名已截止(免費)\n",
      "22.  【臺北班】108年BIM機電實務操作(第二階)II http://training.tabc.org.tw/files/902-1000-831.php 報名中\n",
      "23.  【臺北班】108年BIM機電實務操作(第一階)II http://training.tabc.org.tw/files/902-1000-830.php 報名中\n",
      "24.  108年度建築節能與綠廳舍改善計畫節能技術講習會(臺北場) http://training.tabc.org.tw/files/902-1000-829.php 報名已額滿(免費)\n",
      "25.  108年度建築節能與綠廳舍改善計畫節能技術講習會(臺中場) http://training.tabc.org.tw/files/902-1000-828.php 報名已額滿(免費)\n",
      "26.  108年度建築節能與綠廳舍改善計畫節能技術講習會(高雄場) http://training.tabc.org.tw/files/902-1000-827.php 報名已額滿(免費)\n",
      "27.  108年度智慧生活研習參訪課程 <智慧‧健康> http://training.tabc.org.tw/files/902-1000-823.php 報名已截止(免費)\n",
      "28.  108年度智慧生活研習參訪課程 <智慧‧節能> http://training.tabc.org.tw/files/902-1000-822.php 報名已截止(免費)\n",
      "29.  108年度智慧生活研習參訪課程 <智慧‧安全> http://training.tabc.org.tw/files/902-1000-821.php 報名已截止(免費)\n",
      "30.  108年度智慧生活研習參訪課程 <智慧‧整合> http://training.tabc.org.tw/files/902-1000-820.php 報名已截止(免費)\n",
      "31.  108年綠建築TAB&Cx 進階實務班 http://training.tabc.org.tw/files/902-1000-817.php 報名中\n",
      "32.  108年綠建築空調系統實務基礎訓練班 http://training.tabc.org.tw/files/902-1000-816.php 報名中\n",
      "33.  「2019台灣國際建築室內創新建材展」4/28(日)專題演講(舞台區)(主講人：曹登貴、謝伯昌、劉文傑建築師) http://training.tabc.org.tw/files/902-1000-815.php 報名已截止(免費)\n",
      "34.  「2019台灣國際建築室內創新建材展」4/27(六)專題演講(舞台區)(主講人：陳維凱、林鈴釧、葉建甫建築師) http://training.tabc.org.tw/files/902-1000-814.php 報名已截止(免費)\n",
      "35.  內政部建築研究所107年度研究成果發表講習會-綠建築與建築節能減碳-0426【E4場次】 http://training.tabc.org.tw/files/902-1000-813.php 報名已額滿(免費)\n",
      "36.  內政部建築研究所107年度研究成果發表講習會-建築防火科技-0426【C3場次】 http://training.tabc.org.tw/files/902-1000-812.php 報名已截止(免費)\n",
      "37.  內政部建築研究所107年度研究成果發表講習會-建築資訊整合與分享-0426【F1場次】 http://training.tabc.org.tw/files/902-1000-811.php 報名已截止(免費)\n",
      "38.  內政部建築研究所107年度研究成果發表講習會-綠建築與建築節能減碳-0426【E3場次】 http://training.tabc.org.tw/files/902-1000-810.php 報名已截止(免費)\n",
      "39.  內政部建築研究所107年度研究成果發表講習會-建築防火科技-0426【C2場次】 http://training.tabc.org.tw/files/902-1000-809.php 報名已截止(免費)\n",
      "40.  內政部建築研究所107年度研究成果發表講習會-綠建築與建築節能減碳-0425【E2場次】 http://training.tabc.org.tw/files/902-1000-808.php 報名已截止(免費)\n",
      "41.  內政部建築研究所107年度研究成果發表講習會-建築技術多元創新-0425【D2場次】 http://training.tabc.org.tw/files/902-1000-807.php 報名已截止(免費)\n",
      "42.  內政部建築研究所107年度研究成果發表講習會-建築防火科技-0425【C1場次】 http://training.tabc.org.tw/files/902-1000-806.php 報名已截止(免費)\n",
      "43.  內政部建築研究所107年度研究成果發表講習會-建築技術多元創新-0425【D1場次】 http://training.tabc.org.tw/files/902-1000-805.php 報名已截止(免費)\n",
      "44.  內政部建築研究所107年度研究成果發表講習會-綠建築與建築節能減碳-0425【E1場次】 http://training.tabc.org.tw/files/902-1000-804.php 報名已截止(免費)\n",
      "45.  內政部建築研究所107年度研究成果發表講習會-都市及建築防災-0425【B1場次】 http://training.tabc.org.tw/files/902-1000-803.php 報名已截止(免費)\n",
      "46.  內政部建築研究所107年度研究成果發表講習會-高齡者安全安心生活環境-0425【A1場次】 http://training.tabc.org.tw/files/902-1000-802.php 報名已額滿(免費)\n",
      "47.  內政部建築研究所107年度研究成果發表講習會-高齡者安全安心生活環境-0425【A2場次】 http://training.tabc.org.tw/files/902-1000-801.php 報名已額滿(免費)\n",
      "48.  「2019台灣國際建築室內創新建材展」系列活動(五)-BIM於建築生命週期之商機交流論壇 http://training.tabc.org.tw/files/902-1000-800.php 報名已截止(免費)\n",
      "49.  「2019台灣國際建築室內創新建材展」系列活動(四)-臺北市既有建築物綠能社區改善工程補助與商機交流論壇 http://training.tabc.org.tw/files/902-1000-799.php 報名已截止(免費)\n",
      "50.  2019綠建築教育示範基地參訪活動-4月25日台北市立圖書館北投分館(請準時集合，逾時不候) http://training.tabc.org.tw/files/902-1000-798.php 報名已截止(免費)\n",
      "51.  2019綠建築教育示範基地參訪活動-4月25日淡海污水處理廠(請準時集合，逾時不候) http://training.tabc.org.tw/files/902-1000-797.php 報名已截止(免費)\n",
      "52.  2019綠建築教育示範基地參訪活動-4月22日行政院人事行政總處公務人力發展學院之臺北院區(請準時集合，逾時不候) http://training.tabc.org.tw/files/902-1000-796.php 報名已截止(免費)\n",
      "53.  【臺北班】108年BIM建築設計(第二階)II http://training.tabc.org.tw/files/902-1000-795.php 報名中\n",
      "54.  【臺北班】108年BIM建築設計(第一階)II http://training.tabc.org.tw/files/902-1000-794.php 報名已額滿\n",
      "55.  「2019台灣國際建築室內創新建材展」系列活動(三)-智慧化居住環境科技應用與商機交流論壇 http://training.tabc.org.tw/files/902-1000-793.php 報名已截止(免費)\n",
      "56.  「2019台灣國際建築室內創新建材展」系列活動(二)-高性能建材創新技術與商機交流論壇 http://training.tabc.org.tw/files/902-1000-792.php 報名已截止(免費)\n",
      "57.  「2019台灣國際建築室內創新建材展」4/29(一)系列論壇4-1(論壇區2)(主題：防火防災工程) http://training.tabc.org.tw/files/902-1000-791.php 報名已截止(免費)\n",
      "58.  「2019台灣國際建築室內創新建材展」4/29(一)系列論壇4-1(論壇區1)(主題：智慧綠建築) http://training.tabc.org.tw/files/902-1000-790.php 報名已截止(免費)\n",
      "59.  「2019台灣國際建築室內創新建材展」4/28(日)系列論壇3-2(論壇區2)(主題：防火防災工程、智慧綠建築論) http://training.tabc.org.tw/files/902-1000-789.php 報名已截止(免費)\n",
      "60.  「2019台灣國際建築室內創新建材展」4/28(日)系列論壇3-2(論壇區1)(主題：綠建築、智慧綠建築) http://training.tabc.org.tw/files/902-1000-788.php 報名已截止(免費)\n",
      "61.  「2019台灣國際建築室內創新建材展」4/28(日)系列論壇3-1(論壇區2)(主題：防火防災工程、智慧綠建築) http://training.tabc.org.tw/files/902-1000-787.php 報名已截止(免費)\n",
      "62.  「2019台灣國際建築室內創新建材展」4/28(日)系列論壇3-1(論壇區1)(主題：建築防水、智慧綠建築) http://training.tabc.org.tw/files/902-1000-786.php 報名已截止(免費)\n",
      "63.  「2019台灣國際建築室內創新建材展」4/27(六)系列論壇2-2(論壇區2)(主題：智慧綠建築論壇、綠建材、綠建築) http://training.tabc.org.tw/files/902-1000-785.php 報名已截止(免費)\n",
      "64.  「2019台灣國際建築室內創新建材展」4/27(六)系列論壇2-2(論壇區1)(主題：健康建築、智慧綠建築) http://training.tabc.org.tw/files/902-1000-784.php 報名已截止(免費)\n",
      "65.  「2019台灣國際建築室內創新建材展」4/27(六)系列論壇2-1(論壇區2)(主題：智慧綠建築論壇、綠建材、綠建築) http://training.tabc.org.tw/files/902-1000-783.php 報名已截止(免費)\n",
      "66.  「2019台灣國際建築室內創新建材展」4/27(六)系列論壇2-1(論壇區1)(主題：健康建築、智慧綠建築) http://training.tabc.org.tw/files/902-1000-782.php 報名已截止(免費)\n",
      "67.  「2019台灣國際建築室內創新建材展」4/26(五)系列論壇1-2(論壇區2)(主題：危險老屋重建、BIM資訊服務平台、樓板隔音法規宣導說明會) http://training.tabc.org.tw/files/902-1000-781.php 報名已截止(免費)\n",
      "68.  「2019台灣國際建築室內創新建材展」4/26(五)系列論壇1-2(論壇區1)(主題：綠建材) http://training.tabc.org.tw/files/902-1000-780.php 報名已截止(免費)\n",
      "69.  「2019台灣國際建築室內創新建材展」4/26(五)系列論壇1-1(論壇區2)(主題：危險老屋重建、BIM資訊服務平台、樓板隔音法規宣導說明會) http://training.tabc.org.tw/files/902-1000-779.php 報名已截止(免費)\n",
      "70.  「2019台灣國際建築室內創新建材展」4/26(五)系列論壇1-1(論壇區1)(主題：綠建材) http://training.tabc.org.tw/files/902-1000-778.php 報名已截止(免費)\n",
      "71.  健康建築產業創新商機論壇暨交流活動 http://training.tabc.org.tw/files/902-1000-777.php 報名已截止(免費)\n",
      "72.  2019「醫療院所防火安全及緊急應變整體規劃指引」講習會 http://training.tabc.org.tw/files/902-1000-767.php 報名已額滿\n",
      "73.  108年【王英欽講師】購地階段調查規畫評估與簽約實務作業 http://training.tabc.org.tw/files/902-1000-766.php 報名已截止\n",
      "74.  108年【王英欽講師】土地開發識地決策進階課程 http://training.tabc.org.tw/files/902-1000-765.php 報名已額滿\n",
      "75.  【臺中班】108年Fusion 360元件設計 http://training.tabc.org.tw/files/902-1000-764.php 報名中\n",
      "76.  【臺中班】108年BIM監造實務 http://training.tabc.org.tw/files/902-1000-762.php 報名中\n",
      "77.  【臺北班】108年BIM建築模型實務管理 http://training.tabc.org.tw/files/902-1000-760.php 報名中\n",
      "78.  【臺北班】108年BIM設備元件製作 http://training.tabc.org.tw/files/902-1000-759.php 報名中\n",
      "79.  【臺北班】108年Fusion 360 元件設計 http://training.tabc.org.tw/files/902-1000-758.php 報名中\n",
      "80.  【臺北班】108年BIM監造實務 http://training.tabc.org.tw/files/902-1000-757.php 報名中\n",
      "81.  【臺北班】108年BIM整合與模擬 http://training.tabc.org.tw/files/902-1000-756.php 報名中\n",
      "82.  【臺北班】108年BIM機電實務操作(第二階) http://training.tabc.org.tw/files/902-1000-755.php 報名已額滿\n",
      "83.  【臺北班】108年BIM機電實務操作(第一階) http://training.tabc.org.tw/files/902-1000-754.php 報名已額滿\n",
      "84.  【臺北班】108年視覺化設計 輔助神器 Dynamo(初階) http://training.tabc.org.tw/files/902-1000-753.php 報名已截止\n",
      "85.  【臺北班】108年BIM 建築施工(速成班) http://training.tabc.org.tw/files/902-1000-752.php 報名已截止\n",
      "86.  【臺北班】108年BIM建築設計(第二階) http://training.tabc.org.tw/files/902-1000-751.php 報名已額滿\n",
      "87.  【臺北班】108年BIM建築設計(第一階) http://training.tabc.org.tw/files/902-1000-750.php 報名已額滿\n",
      "88.  【高雄班】108年Fusion 360元件設計 http://training.tabc.org.tw/files/902-1000-749.php 報名中\n",
      "89.  【高雄班】108年BIM整合與模擬 http://training.tabc.org.tw/files/902-1000-747.php 報名中\n",
      "90.  【高雄班】108年BIM監造實務 http://training.tabc.org.tw/files/902-1000-746.php 報名中\n",
      "91.  【高雄班】108年BIM營造機電(第二階) http://training.tabc.org.tw/files/902-1000-745.php 報名中\n",
      "92.  【高雄班】108年BIM營造機電(第一階) http://training.tabc.org.tw/files/902-1000-744.php 報名中\n",
      "93.  【高雄班】108年BIM建築設計(第二階) http://training.tabc.org.tw/files/902-1000-743.php 報名中\n",
      "94.  【高雄班】108年BIM建築設計(第一階) http://training.tabc.org.tw/files/902-1000-742.php 報名已截止\n",
      "95.  【臺中班】108年 BIM整合與模擬 http://training.tabc.org.tw/files/902-1000-741.php 報名中\n",
      "96.  【臺中班】108年BIM營造機電(第二階) http://training.tabc.org.tw/files/902-1000-740.php 報名中\n",
      "97.  【臺中班】108年BIM營造機電(第一階) http://training.tabc.org.tw/files/902-1000-739.php 報名中\n",
      "98.  【臺中班】108年BIM建築設計(第二階) http://training.tabc.org.tw/files/902-1000-738.php 報名中\n",
      "99.  【臺中班】108年BIM建築設計(第一階) http://training.tabc.org.tw/files/902-1000-737.php 報名中\n",
      "100.  學習未來，感應城市 Future Learning & Senseable City http://training.tabc.org.tw/files/902-1000-736.php 報名已截止(免費)\n"
     ]
    }
   ],
   "source": [
    "j = 1\n",
    "for i in range(0,len(class_name)):\n",
    "    print(str(j)+\". \",class_name[i],class_url[i],class_state[i])\n",
    "    j+=1"
   ]
  },
  {
   "cell_type": "code",
   "execution_count": 26,
   "metadata": {},
   "outputs": [
    {
     "name": "stdout",
     "output_type": "stream",
     "text": [
      "1.  2019綠建築教育示範基地參訪活動-8月9日高雄國家體育場世運主場館(請準時集合，逾時不候) http://training.tabc.org.tw/files/902-1000-855.php 報名中(免費)\n",
      "3.  廣域智慧能源管理平台應用推廣計畫-技術推廣講習會 http://training.tabc.org.tw/files/902-1000-853.php 報名中(免費)\n",
      "22.  【臺北班】108年BIM機電實務操作(第二階)II http://training.tabc.org.tw/files/902-1000-831.php 報名中\n",
      "23.  【臺北班】108年BIM機電實務操作(第一階)II http://training.tabc.org.tw/files/902-1000-830.php 報名中\n",
      "31.  108年綠建築TAB&Cx 進階實務班 http://training.tabc.org.tw/files/902-1000-817.php 報名中\n",
      "32.  108年綠建築空調系統實務基礎訓練班 http://training.tabc.org.tw/files/902-1000-816.php 報名中\n",
      "53.  【臺北班】108年BIM建築設計(第二階)II http://training.tabc.org.tw/files/902-1000-795.php 報名中\n",
      "75.  【臺中班】108年Fusion 360元件設計 http://training.tabc.org.tw/files/902-1000-764.php 報名中\n",
      "76.  【臺中班】108年BIM監造實務 http://training.tabc.org.tw/files/902-1000-762.php 報名中\n",
      "77.  【臺北班】108年BIM建築模型實務管理 http://training.tabc.org.tw/files/902-1000-760.php 報名中\n",
      "78.  【臺北班】108年BIM設備元件製作 http://training.tabc.org.tw/files/902-1000-759.php 報名中\n",
      "79.  【臺北班】108年Fusion 360 元件設計 http://training.tabc.org.tw/files/902-1000-758.php 報名中\n",
      "80.  【臺北班】108年BIM監造實務 http://training.tabc.org.tw/files/902-1000-757.php 報名中\n",
      "81.  【臺北班】108年BIM整合與模擬 http://training.tabc.org.tw/files/902-1000-756.php 報名中\n",
      "88.  【高雄班】108年Fusion 360元件設計 http://training.tabc.org.tw/files/902-1000-749.php 報名中\n",
      "89.  【高雄班】108年BIM整合與模擬 http://training.tabc.org.tw/files/902-1000-747.php 報名中\n",
      "90.  【高雄班】108年BIM監造實務 http://training.tabc.org.tw/files/902-1000-746.php 報名中\n",
      "91.  【高雄班】108年BIM營造機電(第二階) http://training.tabc.org.tw/files/902-1000-745.php 報名中\n",
      "92.  【高雄班】108年BIM營造機電(第一階) http://training.tabc.org.tw/files/902-1000-744.php 報名中\n",
      "93.  【高雄班】108年BIM建築設計(第二階) http://training.tabc.org.tw/files/902-1000-743.php 報名中\n",
      "95.  【臺中班】108年 BIM整合與模擬 http://training.tabc.org.tw/files/902-1000-741.php 報名中\n",
      "96.  【臺中班】108年BIM營造機電(第二階) http://training.tabc.org.tw/files/902-1000-740.php 報名中\n",
      "97.  【臺中班】108年BIM營造機電(第一階) http://training.tabc.org.tw/files/902-1000-739.php 報名中\n",
      "98.  【臺中班】108年BIM建築設計(第二階) http://training.tabc.org.tw/files/902-1000-738.php 報名中\n",
      "99.  【臺中班】108年BIM建築設計(第一階) http://training.tabc.org.tw/files/902-1000-737.php 報名中\n"
     ]
    }
   ],
   "source": [
    "j = 1\n",
    "for i in range(0,len(class_name)):\n",
    "    try:\n",
    "        class_state[i].index(\"報名中\")\n",
    "    except:\n",
    "        print(\"\",end='')\n",
    "    else:\n",
    "        print(str(j)+\". \",class_name[i],class_url[i],class_state[i])\n",
    "        #print(class_state[i].index(\"報名中\"))\n",
    "    j+=1"
   ]
  },
  {
   "cell_type": "code",
   "execution_count": 27,
   "metadata": {},
   "outputs": [
    {
     "name": "stdout",
     "output_type": "stream",
     "text": [
      "0.  廣域智慧能源管理平台應用推廣計畫-技術推廣講習會\n",
      "1.  108年度智慧化居住環境科技應用座談會<節能管理>\n",
      "2.  108年度智慧化居住環境科技應用座談會<安全監控>\n",
      "3.  108年度智慧化居住環境科技應用座談會<健康照護>\n",
      "4.  108年度智慧化居住環境科技應用座談會<系統整合>\n",
      "5.  108年度智慧綠建築與永續智慧社區系列講習- 「智慧建築標章推廣課程」<臺中場>\n",
      "6.  108年度智慧綠建築與永續智慧社區系列講習- 「智慧建築標章推廣課程」<臺北場>\n",
      "7.  108年度智慧綠建築與永續智慧社區系列講習- 「智慧建築標章推廣課程」<高雄場>\n",
      "8.  108年度智慧生活研習參訪課程 <智慧‧健康>\n",
      "9.  108年度智慧生活研習參訪課程 <智慧‧節能>\n",
      "10.  108年度智慧生活研習參訪課程 <智慧‧安全>\n",
      "11.  108年度智慧生活研習參訪課程 <智慧‧整合>\n",
      "12.  「2019台灣國際建築室內創新建材展」系列活動(三)-智慧化居住環境科技應用與商機交流論壇\n",
      "13.  「2019台灣國際建築室內創新建材展」4/29(一)系列論壇4-1(論壇區1)(主題：智慧綠建築)\n",
      "14.  「2019台灣國際建築室內創新建材展」4/28(日)系列論壇3-2(論壇區2)(主題：防火防災工程、智慧綠建築論)\n",
      "15.  「2019台灣國際建築室內創新建材展」4/28(日)系列論壇3-2(論壇區1)(主題：綠建築、智慧綠建築)\n",
      "16.  「2019台灣國際建築室內創新建材展」4/28(日)系列論壇3-1(論壇區2)(主題：防火防災工程、智慧綠建築)\n",
      "17.  「2019台灣國際建築室內創新建材展」4/28(日)系列論壇3-1(論壇區1)(主題：建築防水、智慧綠建築)\n",
      "18.  「2019台灣國際建築室內創新建材展」4/27(六)系列論壇2-2(論壇區2)(主題：智慧綠建築論壇、綠建材、綠建築)\n",
      "19.  「2019台灣國際建築室內創新建材展」4/27(六)系列論壇2-2(論壇區1)(主題：健康建築、智慧綠建築)\n",
      "20.  「2019台灣國際建築室內創新建材展」4/27(六)系列論壇2-1(論壇區2)(主題：智慧綠建築論壇、綠建材、綠建築)\n",
      "21.  「2019台灣國際建築室內創新建材展」4/27(六)系列論壇2-1(論壇區1)(主題：健康建築、智慧綠建築)\n"
     ]
    }
   ],
   "source": [
    "j =0\n",
    "for i in range(0,len(class_name)):\n",
    "    try:\n",
    "        class_name[i].index(\"智慧\") # \"智慧\" 可以做為輸入內容\n",
    "    except:\n",
    "        print(\"\",end='')\n",
    "    else:\n",
    "        print(str(j)+\". \",class_name[i])\n",
    "        j+=1\n",
    "if j == 0 :\n",
    "    print(\"無內容\")"
   ]
  },
  {
   "cell_type": "code",
   "execution_count": null,
   "metadata": {},
   "outputs": [],
   "source": []
  }
 ],
 "metadata": {
  "kernelspec": {
   "display_name": "Python 3",
   "language": "python",
   "name": "python3"
  },
  "language_info": {
   "codemirror_mode": {
    "name": "ipython",
    "version": 3
   },
   "file_extension": ".py",
   "mimetype": "text/x-python",
   "name": "python",
   "nbconvert_exporter": "python",
   "pygments_lexer": "ipython3",
   "version": "3.6.8"
  }
 },
 "nbformat": 4,
 "nbformat_minor": 2
}
